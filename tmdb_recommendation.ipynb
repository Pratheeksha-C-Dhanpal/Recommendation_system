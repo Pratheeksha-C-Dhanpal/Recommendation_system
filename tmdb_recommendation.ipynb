{
 "cells": [
  {
   "cell_type": "code",
   "execution_count": 1,
   "metadata": {
    "id": "slkutgpmlmFc"
   },
   "outputs": [],
   "source": [
    "import pandas as pd\n",
    "import numpy as np\n",
    "from sklearn.feature_extraction.text import CountVectorizer\n",
    "from sklearn.metrics.pairwise import cosine_similarity"
   ]
  },
  {
   "cell_type": "code",
   "execution_count": 2,
   "metadata": {
    "id": "YnumJodRm9jd"
   },
   "outputs": [],
   "source": [
    "credits = pd.read_csv('E://Pratheeksha//recommender system//tmdb_5000_credits.csv')\n",
    "movies = pd.read_csv(\"E://Pratheeksha//recommender system//tmdb_5000_movies.csv\")"
   ]
  },
  {
   "cell_type": "markdown",
   "metadata": {
    "id": "0azVv3j-NEDy"
   },
   "source": [
    "#**Movies dataset**"
   ]
  },
  {
   "cell_type": "markdown",
   "metadata": {
    "id": "UA261MTZNodz"
   },
   "source": [
    "Columns such as 'genres', 'keywords', 'production_companies', 'production_countries', and 'spoken_languages' are in json format which needs to be cleaned for further analysis"
   ]
  },
  {
   "cell_type": "code",
   "execution_count": 3,
   "metadata": {
    "colab": {
     "base_uri": "https://localhost:8080/",
     "height": 717
    },
    "id": "FH_5khcpsvyN",
    "outputId": "8c84883a-d218-413e-9c86-787898e58522"
   },
   "outputs": [
    {
     "data": {
      "text/html": [
       "<div>\n",
       "<style scoped>\n",
       "    .dataframe tbody tr th:only-of-type {\n",
       "        vertical-align: middle;\n",
       "    }\n",
       "\n",
       "    .dataframe tbody tr th {\n",
       "        vertical-align: top;\n",
       "    }\n",
       "\n",
       "    .dataframe thead th {\n",
       "        text-align: right;\n",
       "    }\n",
       "</style>\n",
       "<table border=\"1\" class=\"dataframe\">\n",
       "  <thead>\n",
       "    <tr style=\"text-align: right;\">\n",
       "      <th></th>\n",
       "      <th>budget</th>\n",
       "      <th>genres</th>\n",
       "      <th>homepage</th>\n",
       "      <th>id</th>\n",
       "      <th>keywords</th>\n",
       "      <th>original_language</th>\n",
       "      <th>original_title</th>\n",
       "      <th>overview</th>\n",
       "      <th>popularity</th>\n",
       "      <th>production_companies</th>\n",
       "      <th>production_countries</th>\n",
       "      <th>release_date</th>\n",
       "      <th>revenue</th>\n",
       "      <th>runtime</th>\n",
       "      <th>spoken_languages</th>\n",
       "      <th>status</th>\n",
       "      <th>tagline</th>\n",
       "      <th>title</th>\n",
       "      <th>vote_average</th>\n",
       "      <th>vote_count</th>\n",
       "    </tr>\n",
       "  </thead>\n",
       "  <tbody>\n",
       "    <tr>\n",
       "      <th>0</th>\n",
       "      <td>237000000</td>\n",
       "      <td>[{\"id\": 28, \"name\": \"Action\"}, {\"id\": 12, \"nam...</td>\n",
       "      <td>http://www.avatarmovie.com/</td>\n",
       "      <td>19995</td>\n",
       "      <td>[{\"id\": 1463, \"name\": \"culture clash\"}, {\"id\":...</td>\n",
       "      <td>en</td>\n",
       "      <td>Avatar</td>\n",
       "      <td>In the 22nd century, a paraplegic Marine is di...</td>\n",
       "      <td>150.437577</td>\n",
       "      <td>[{\"name\": \"Ingenious Film Partners\", \"id\": 289...</td>\n",
       "      <td>[{\"iso_3166_1\": \"US\", \"name\": \"United States o...</td>\n",
       "      <td>2009-12-10</td>\n",
       "      <td>2787965087</td>\n",
       "      <td>162.0</td>\n",
       "      <td>[{\"iso_639_1\": \"en\", \"name\": \"English\"}, {\"iso...</td>\n",
       "      <td>Released</td>\n",
       "      <td>Enter the World of Pandora.</td>\n",
       "      <td>Avatar</td>\n",
       "      <td>7.2</td>\n",
       "      <td>11800</td>\n",
       "    </tr>\n",
       "    <tr>\n",
       "      <th>1</th>\n",
       "      <td>300000000</td>\n",
       "      <td>[{\"id\": 12, \"name\": \"Adventure\"}, {\"id\": 14, \"...</td>\n",
       "      <td>http://disney.go.com/disneypictures/pirates/</td>\n",
       "      <td>285</td>\n",
       "      <td>[{\"id\": 270, \"name\": \"ocean\"}, {\"id\": 726, \"na...</td>\n",
       "      <td>en</td>\n",
       "      <td>Pirates of the Caribbean: At World's End</td>\n",
       "      <td>Captain Barbossa, long believed to be dead, ha...</td>\n",
       "      <td>139.082615</td>\n",
       "      <td>[{\"name\": \"Walt Disney Pictures\", \"id\": 2}, {\"...</td>\n",
       "      <td>[{\"iso_3166_1\": \"US\", \"name\": \"United States o...</td>\n",
       "      <td>2007-05-19</td>\n",
       "      <td>961000000</td>\n",
       "      <td>169.0</td>\n",
       "      <td>[{\"iso_639_1\": \"en\", \"name\": \"English\"}]</td>\n",
       "      <td>Released</td>\n",
       "      <td>At the end of the world, the adventure begins.</td>\n",
       "      <td>Pirates of the Caribbean: At World's End</td>\n",
       "      <td>6.9</td>\n",
       "      <td>4500</td>\n",
       "    </tr>\n",
       "    <tr>\n",
       "      <th>2</th>\n",
       "      <td>245000000</td>\n",
       "      <td>[{\"id\": 28, \"name\": \"Action\"}, {\"id\": 12, \"nam...</td>\n",
       "      <td>http://www.sonypictures.com/movies/spectre/</td>\n",
       "      <td>206647</td>\n",
       "      <td>[{\"id\": 470, \"name\": \"spy\"}, {\"id\": 818, \"name...</td>\n",
       "      <td>en</td>\n",
       "      <td>Spectre</td>\n",
       "      <td>A cryptic message from Bond’s past sends him o...</td>\n",
       "      <td>107.376788</td>\n",
       "      <td>[{\"name\": \"Columbia Pictures\", \"id\": 5}, {\"nam...</td>\n",
       "      <td>[{\"iso_3166_1\": \"GB\", \"name\": \"United Kingdom\"...</td>\n",
       "      <td>2015-10-26</td>\n",
       "      <td>880674609</td>\n",
       "      <td>148.0</td>\n",
       "      <td>[{\"iso_639_1\": \"fr\", \"name\": \"Fran\\u00e7ais\"},...</td>\n",
       "      <td>Released</td>\n",
       "      <td>A Plan No One Escapes</td>\n",
       "      <td>Spectre</td>\n",
       "      <td>6.3</td>\n",
       "      <td>4466</td>\n",
       "    </tr>\n",
       "    <tr>\n",
       "      <th>3</th>\n",
       "      <td>250000000</td>\n",
       "      <td>[{\"id\": 28, \"name\": \"Action\"}, {\"id\": 80, \"nam...</td>\n",
       "      <td>http://www.thedarkknightrises.com/</td>\n",
       "      <td>49026</td>\n",
       "      <td>[{\"id\": 849, \"name\": \"dc comics\"}, {\"id\": 853,...</td>\n",
       "      <td>en</td>\n",
       "      <td>The Dark Knight Rises</td>\n",
       "      <td>Following the death of District Attorney Harve...</td>\n",
       "      <td>112.312950</td>\n",
       "      <td>[{\"name\": \"Legendary Pictures\", \"id\": 923}, {\"...</td>\n",
       "      <td>[{\"iso_3166_1\": \"US\", \"name\": \"United States o...</td>\n",
       "      <td>2012-07-16</td>\n",
       "      <td>1084939099</td>\n",
       "      <td>165.0</td>\n",
       "      <td>[{\"iso_639_1\": \"en\", \"name\": \"English\"}]</td>\n",
       "      <td>Released</td>\n",
       "      <td>The Legend Ends</td>\n",
       "      <td>The Dark Knight Rises</td>\n",
       "      <td>7.6</td>\n",
       "      <td>9106</td>\n",
       "    </tr>\n",
       "    <tr>\n",
       "      <th>4</th>\n",
       "      <td>260000000</td>\n",
       "      <td>[{\"id\": 28, \"name\": \"Action\"}, {\"id\": 12, \"nam...</td>\n",
       "      <td>http://movies.disney.com/john-carter</td>\n",
       "      <td>49529</td>\n",
       "      <td>[{\"id\": 818, \"name\": \"based on novel\"}, {\"id\":...</td>\n",
       "      <td>en</td>\n",
       "      <td>John Carter</td>\n",
       "      <td>John Carter is a war-weary, former military ca...</td>\n",
       "      <td>43.926995</td>\n",
       "      <td>[{\"name\": \"Walt Disney Pictures\", \"id\": 2}]</td>\n",
       "      <td>[{\"iso_3166_1\": \"US\", \"name\": \"United States o...</td>\n",
       "      <td>2012-03-07</td>\n",
       "      <td>284139100</td>\n",
       "      <td>132.0</td>\n",
       "      <td>[{\"iso_639_1\": \"en\", \"name\": \"English\"}]</td>\n",
       "      <td>Released</td>\n",
       "      <td>Lost in our world, found in another.</td>\n",
       "      <td>John Carter</td>\n",
       "      <td>6.1</td>\n",
       "      <td>2124</td>\n",
       "    </tr>\n",
       "  </tbody>\n",
       "</table>\n",
       "</div>"
      ],
      "text/plain": [
       "      budget                                             genres  \\\n",
       "0  237000000  [{\"id\": 28, \"name\": \"Action\"}, {\"id\": 12, \"nam...   \n",
       "1  300000000  [{\"id\": 12, \"name\": \"Adventure\"}, {\"id\": 14, \"...   \n",
       "2  245000000  [{\"id\": 28, \"name\": \"Action\"}, {\"id\": 12, \"nam...   \n",
       "3  250000000  [{\"id\": 28, \"name\": \"Action\"}, {\"id\": 80, \"nam...   \n",
       "4  260000000  [{\"id\": 28, \"name\": \"Action\"}, {\"id\": 12, \"nam...   \n",
       "\n",
       "                                       homepage      id  \\\n",
       "0                   http://www.avatarmovie.com/   19995   \n",
       "1  http://disney.go.com/disneypictures/pirates/     285   \n",
       "2   http://www.sonypictures.com/movies/spectre/  206647   \n",
       "3            http://www.thedarkknightrises.com/   49026   \n",
       "4          http://movies.disney.com/john-carter   49529   \n",
       "\n",
       "                                            keywords original_language  \\\n",
       "0  [{\"id\": 1463, \"name\": \"culture clash\"}, {\"id\":...                en   \n",
       "1  [{\"id\": 270, \"name\": \"ocean\"}, {\"id\": 726, \"na...                en   \n",
       "2  [{\"id\": 470, \"name\": \"spy\"}, {\"id\": 818, \"name...                en   \n",
       "3  [{\"id\": 849, \"name\": \"dc comics\"}, {\"id\": 853,...                en   \n",
       "4  [{\"id\": 818, \"name\": \"based on novel\"}, {\"id\":...                en   \n",
       "\n",
       "                             original_title  \\\n",
       "0                                    Avatar   \n",
       "1  Pirates of the Caribbean: At World's End   \n",
       "2                                   Spectre   \n",
       "3                     The Dark Knight Rises   \n",
       "4                               John Carter   \n",
       "\n",
       "                                            overview  popularity  \\\n",
       "0  In the 22nd century, a paraplegic Marine is di...  150.437577   \n",
       "1  Captain Barbossa, long believed to be dead, ha...  139.082615   \n",
       "2  A cryptic message from Bond’s past sends him o...  107.376788   \n",
       "3  Following the death of District Attorney Harve...  112.312950   \n",
       "4  John Carter is a war-weary, former military ca...   43.926995   \n",
       "\n",
       "                                production_companies  \\\n",
       "0  [{\"name\": \"Ingenious Film Partners\", \"id\": 289...   \n",
       "1  [{\"name\": \"Walt Disney Pictures\", \"id\": 2}, {\"...   \n",
       "2  [{\"name\": \"Columbia Pictures\", \"id\": 5}, {\"nam...   \n",
       "3  [{\"name\": \"Legendary Pictures\", \"id\": 923}, {\"...   \n",
       "4        [{\"name\": \"Walt Disney Pictures\", \"id\": 2}]   \n",
       "\n",
       "                                production_countries release_date     revenue  \\\n",
       "0  [{\"iso_3166_1\": \"US\", \"name\": \"United States o...   2009-12-10  2787965087   \n",
       "1  [{\"iso_3166_1\": \"US\", \"name\": \"United States o...   2007-05-19   961000000   \n",
       "2  [{\"iso_3166_1\": \"GB\", \"name\": \"United Kingdom\"...   2015-10-26   880674609   \n",
       "3  [{\"iso_3166_1\": \"US\", \"name\": \"United States o...   2012-07-16  1084939099   \n",
       "4  [{\"iso_3166_1\": \"US\", \"name\": \"United States o...   2012-03-07   284139100   \n",
       "\n",
       "   runtime                                   spoken_languages    status  \\\n",
       "0    162.0  [{\"iso_639_1\": \"en\", \"name\": \"English\"}, {\"iso...  Released   \n",
       "1    169.0           [{\"iso_639_1\": \"en\", \"name\": \"English\"}]  Released   \n",
       "2    148.0  [{\"iso_639_1\": \"fr\", \"name\": \"Fran\\u00e7ais\"},...  Released   \n",
       "3    165.0           [{\"iso_639_1\": \"en\", \"name\": \"English\"}]  Released   \n",
       "4    132.0           [{\"iso_639_1\": \"en\", \"name\": \"English\"}]  Released   \n",
       "\n",
       "                                          tagline  \\\n",
       "0                     Enter the World of Pandora.   \n",
       "1  At the end of the world, the adventure begins.   \n",
       "2                           A Plan No One Escapes   \n",
       "3                                 The Legend Ends   \n",
       "4            Lost in our world, found in another.   \n",
       "\n",
       "                                      title  vote_average  vote_count  \n",
       "0                                    Avatar           7.2       11800  \n",
       "1  Pirates of the Caribbean: At World's End           6.9        4500  \n",
       "2                                   Spectre           6.3        4466  \n",
       "3                     The Dark Knight Rises           7.6        9106  \n",
       "4                               John Carter           6.1        2124  "
      ]
     },
     "execution_count": 3,
     "metadata": {},
     "output_type": "execute_result"
    }
   ],
   "source": [
    "movies.head()"
   ]
  },
  {
   "cell_type": "code",
   "execution_count": 4,
   "metadata": {
    "colab": {
     "base_uri": "https://localhost:8080/"
    },
    "id": "erBfF5UgXMlV",
    "outputId": "21953a98-3d62-4204-dabc-916e53e8bfdb"
   },
   "outputs": [
    {
     "data": {
      "text/plain": [
       "(4803, 20)"
      ]
     },
     "execution_count": 4,
     "metadata": {},
     "output_type": "execute_result"
    }
   ],
   "source": [
    "movies.shape"
   ]
  },
  {
   "cell_type": "code",
   "execution_count": 5,
   "metadata": {
    "colab": {
     "base_uri": "https://localhost:8080/",
     "height": 297
    },
    "id": "wUKVw6_z5Abg",
    "outputId": "8e1112b7-ea5c-445c-af29-e55022d0e7af"
   },
   "outputs": [
    {
     "data": {
      "text/html": [
       "<div>\n",
       "<style scoped>\n",
       "    .dataframe tbody tr th:only-of-type {\n",
       "        vertical-align: middle;\n",
       "    }\n",
       "\n",
       "    .dataframe tbody tr th {\n",
       "        vertical-align: top;\n",
       "    }\n",
       "\n",
       "    .dataframe thead th {\n",
       "        text-align: right;\n",
       "    }\n",
       "</style>\n",
       "<table border=\"1\" class=\"dataframe\">\n",
       "  <thead>\n",
       "    <tr style=\"text-align: right;\">\n",
       "      <th></th>\n",
       "      <th>budget</th>\n",
       "      <th>id</th>\n",
       "      <th>popularity</th>\n",
       "      <th>revenue</th>\n",
       "      <th>runtime</th>\n",
       "      <th>vote_average</th>\n",
       "      <th>vote_count</th>\n",
       "    </tr>\n",
       "  </thead>\n",
       "  <tbody>\n",
       "    <tr>\n",
       "      <th>count</th>\n",
       "      <td>4.803000e+03</td>\n",
       "      <td>4803.000000</td>\n",
       "      <td>4803.000000</td>\n",
       "      <td>4.803000e+03</td>\n",
       "      <td>4801.000000</td>\n",
       "      <td>4803.000000</td>\n",
       "      <td>4803.000000</td>\n",
       "    </tr>\n",
       "    <tr>\n",
       "      <th>mean</th>\n",
       "      <td>2.904504e+07</td>\n",
       "      <td>57165.484281</td>\n",
       "      <td>21.492301</td>\n",
       "      <td>8.226064e+07</td>\n",
       "      <td>106.875859</td>\n",
       "      <td>6.092172</td>\n",
       "      <td>690.217989</td>\n",
       "    </tr>\n",
       "    <tr>\n",
       "      <th>std</th>\n",
       "      <td>4.072239e+07</td>\n",
       "      <td>88694.614033</td>\n",
       "      <td>31.816650</td>\n",
       "      <td>1.628571e+08</td>\n",
       "      <td>22.611935</td>\n",
       "      <td>1.194612</td>\n",
       "      <td>1234.585891</td>\n",
       "    </tr>\n",
       "    <tr>\n",
       "      <th>min</th>\n",
       "      <td>0.000000e+00</td>\n",
       "      <td>5.000000</td>\n",
       "      <td>0.000000</td>\n",
       "      <td>0.000000e+00</td>\n",
       "      <td>0.000000</td>\n",
       "      <td>0.000000</td>\n",
       "      <td>0.000000</td>\n",
       "    </tr>\n",
       "    <tr>\n",
       "      <th>25%</th>\n",
       "      <td>7.900000e+05</td>\n",
       "      <td>9014.500000</td>\n",
       "      <td>4.668070</td>\n",
       "      <td>0.000000e+00</td>\n",
       "      <td>94.000000</td>\n",
       "      <td>5.600000</td>\n",
       "      <td>54.000000</td>\n",
       "    </tr>\n",
       "    <tr>\n",
       "      <th>50%</th>\n",
       "      <td>1.500000e+07</td>\n",
       "      <td>14629.000000</td>\n",
       "      <td>12.921594</td>\n",
       "      <td>1.917000e+07</td>\n",
       "      <td>103.000000</td>\n",
       "      <td>6.200000</td>\n",
       "      <td>235.000000</td>\n",
       "    </tr>\n",
       "    <tr>\n",
       "      <th>75%</th>\n",
       "      <td>4.000000e+07</td>\n",
       "      <td>58610.500000</td>\n",
       "      <td>28.313505</td>\n",
       "      <td>9.291719e+07</td>\n",
       "      <td>118.000000</td>\n",
       "      <td>6.800000</td>\n",
       "      <td>737.000000</td>\n",
       "    </tr>\n",
       "    <tr>\n",
       "      <th>max</th>\n",
       "      <td>3.800000e+08</td>\n",
       "      <td>459488.000000</td>\n",
       "      <td>875.581305</td>\n",
       "      <td>2.787965e+09</td>\n",
       "      <td>338.000000</td>\n",
       "      <td>10.000000</td>\n",
       "      <td>13752.000000</td>\n",
       "    </tr>\n",
       "  </tbody>\n",
       "</table>\n",
       "</div>"
      ],
      "text/plain": [
       "             budget             id   popularity       revenue      runtime  \\\n",
       "count  4.803000e+03    4803.000000  4803.000000  4.803000e+03  4801.000000   \n",
       "mean   2.904504e+07   57165.484281    21.492301  8.226064e+07   106.875859   \n",
       "std    4.072239e+07   88694.614033    31.816650  1.628571e+08    22.611935   \n",
       "min    0.000000e+00       5.000000     0.000000  0.000000e+00     0.000000   \n",
       "25%    7.900000e+05    9014.500000     4.668070  0.000000e+00    94.000000   \n",
       "50%    1.500000e+07   14629.000000    12.921594  1.917000e+07   103.000000   \n",
       "75%    4.000000e+07   58610.500000    28.313505  9.291719e+07   118.000000   \n",
       "max    3.800000e+08  459488.000000   875.581305  2.787965e+09   338.000000   \n",
       "\n",
       "       vote_average    vote_count  \n",
       "count   4803.000000   4803.000000  \n",
       "mean       6.092172    690.217989  \n",
       "std        1.194612   1234.585891  \n",
       "min        0.000000      0.000000  \n",
       "25%        5.600000     54.000000  \n",
       "50%        6.200000    235.000000  \n",
       "75%        6.800000    737.000000  \n",
       "max       10.000000  13752.000000  "
      ]
     },
     "execution_count": 5,
     "metadata": {},
     "output_type": "execute_result"
    }
   ],
   "source": [
    "movies.describe()"
   ]
  },
  {
   "cell_type": "code",
   "execution_count": 6,
   "metadata": {
    "colab": {
     "base_uri": "https://localhost:8080/"
    },
    "id": "3MIXKqUh6K0X",
    "outputId": "e8298ece-8138-4b7f-b105-3c96e67516aa"
   },
   "outputs": [
    {
     "name": "stdout",
     "output_type": "stream",
     "text": [
      "<class 'pandas.core.frame.DataFrame'>\n",
      "RangeIndex: 4803 entries, 0 to 4802\n",
      "Data columns (total 20 columns):\n",
      "budget                  4803 non-null int64\n",
      "genres                  4803 non-null object\n",
      "homepage                1712 non-null object\n",
      "id                      4803 non-null int64\n",
      "keywords                4803 non-null object\n",
      "original_language       4803 non-null object\n",
      "original_title          4803 non-null object\n",
      "overview                4800 non-null object\n",
      "popularity              4803 non-null float64\n",
      "production_companies    4803 non-null object\n",
      "production_countries    4803 non-null object\n",
      "release_date            4802 non-null object\n",
      "revenue                 4803 non-null int64\n",
      "runtime                 4801 non-null float64\n",
      "spoken_languages        4803 non-null object\n",
      "status                  4803 non-null object\n",
      "tagline                 3959 non-null object\n",
      "title                   4803 non-null object\n",
      "vote_average            4803 non-null float64\n",
      "vote_count              4803 non-null int64\n",
      "dtypes: float64(3), int64(4), object(13)\n",
      "memory usage: 750.5+ KB\n"
     ]
    }
   ],
   "source": [
    "movies.info()"
   ]
  },
  {
   "cell_type": "code",
   "execution_count": 7,
   "metadata": {
    "colab": {
     "base_uri": "https://localhost:8080/"
    },
    "id": "Pr_wnGC16ND9",
    "outputId": "cbebb554-ef0c-442d-f9ea-f010470738df"
   },
   "outputs": [
    {
     "data": {
      "text/plain": [
       "budget                     0\n",
       "genres                     0\n",
       "homepage                3091\n",
       "id                         0\n",
       "keywords                   0\n",
       "original_language          0\n",
       "original_title             0\n",
       "overview                   3\n",
       "popularity                 0\n",
       "production_companies       0\n",
       "production_countries       0\n",
       "release_date               1\n",
       "revenue                    0\n",
       "runtime                    2\n",
       "spoken_languages           0\n",
       "status                     0\n",
       "tagline                  844\n",
       "title                      0\n",
       "vote_average               0\n",
       "vote_count                 0\n",
       "dtype: int64"
      ]
     },
     "execution_count": 7,
     "metadata": {},
     "output_type": "execute_result"
    }
   ],
   "source": [
    "movies.isnull().sum()"
   ]
  },
  {
   "cell_type": "code",
   "execution_count": 8,
   "metadata": {
    "id": "xvfNdJjql-vZ"
   },
   "outputs": [],
   "source": [
    "movies = movies[movies.astype(str)['genres'] != '[]']"
   ]
  },
  {
   "cell_type": "code",
   "execution_count": 9,
   "metadata": {
    "colab": {
     "base_uri": "https://localhost:8080/"
    },
    "id": "SJp4-a-jmAhQ",
    "outputId": "419b2e6d-410b-4de7-85ac-1fe9ec1c1f85"
   },
   "outputs": [
    {
     "data": {
      "text/plain": [
       "0       [{\"id\": 28, \"name\": \"Action\"}, {\"id\": 12, \"nam...\n",
       "1       [{\"id\": 12, \"name\": \"Adventure\"}, {\"id\": 14, \"...\n",
       "2       [{\"id\": 28, \"name\": \"Action\"}, {\"id\": 12, \"nam...\n",
       "3       [{\"id\": 28, \"name\": \"Action\"}, {\"id\": 80, \"nam...\n",
       "4       [{\"id\": 28, \"name\": \"Action\"}, {\"id\": 12, \"nam...\n",
       "5       [{\"id\": 14, \"name\": \"Fantasy\"}, {\"id\": 28, \"na...\n",
       "6       [{\"id\": 16, \"name\": \"Animation\"}, {\"id\": 10751...\n",
       "7       [{\"id\": 28, \"name\": \"Action\"}, {\"id\": 12, \"nam...\n",
       "8       [{\"id\": 12, \"name\": \"Adventure\"}, {\"id\": 14, \"...\n",
       "9       [{\"id\": 28, \"name\": \"Action\"}, {\"id\": 12, \"nam...\n",
       "10      [{\"id\": 12, \"name\": \"Adventure\"}, {\"id\": 14, \"...\n",
       "11      [{\"id\": 12, \"name\": \"Adventure\"}, {\"id\": 28, \"...\n",
       "12      [{\"id\": 12, \"name\": \"Adventure\"}, {\"id\": 14, \"...\n",
       "13      [{\"id\": 28, \"name\": \"Action\"}, {\"id\": 12, \"nam...\n",
       "14      [{\"id\": 28, \"name\": \"Action\"}, {\"id\": 12, \"nam...\n",
       "15      [{\"id\": 12, \"name\": \"Adventure\"}, {\"id\": 10751...\n",
       "16      [{\"id\": 878, \"name\": \"Science Fiction\"}, {\"id\"...\n",
       "17      [{\"id\": 12, \"name\": \"Adventure\"}, {\"id\": 28, \"...\n",
       "18      [{\"id\": 28, \"name\": \"Action\"}, {\"id\": 35, \"nam...\n",
       "19      [{\"id\": 28, \"name\": \"Action\"}, {\"id\": 12, \"nam...\n",
       "20      [{\"id\": 28, \"name\": \"Action\"}, {\"id\": 12, \"nam...\n",
       "21      [{\"id\": 28, \"name\": \"Action\"}, {\"id\": 12, \"nam...\n",
       "22      [{\"id\": 12, \"name\": \"Adventure\"}, {\"id\": 14, \"...\n",
       "23      [{\"id\": 12, \"name\": \"Adventure\"}, {\"id\": 14, \"...\n",
       "24      [{\"id\": 12, \"name\": \"Adventure\"}, {\"id\": 18, \"...\n",
       "25      [{\"id\": 18, \"name\": \"Drama\"}, {\"id\": 10749, \"n...\n",
       "26      [{\"id\": 12, \"name\": \"Adventure\"}, {\"id\": 28, \"...\n",
       "27      [{\"id\": 53, \"name\": \"Thriller\"}, {\"id\": 28, \"n...\n",
       "28      [{\"id\": 28, \"name\": \"Action\"}, {\"id\": 12, \"nam...\n",
       "29      [{\"id\": 28, \"name\": \"Action\"}, {\"id\": 12, \"nam...\n",
       "                              ...                        \n",
       "4772    [{\"id\": 18, \"name\": \"Drama\"}, {\"id\": 28, \"name...\n",
       "4773                       [{\"id\": 35, \"name\": \"Comedy\"}]\n",
       "4774    [{\"id\": 18, \"name\": \"Drama\"}, {\"id\": 10749, \"n...\n",
       "4775    [{\"id\": 18, \"name\": \"Drama\"}, {\"id\": 35, \"name...\n",
       "4776    [{\"id\": 35, \"name\": \"Comedy\"}, {\"id\": 18, \"nam...\n",
       "4777                        [{\"id\": 18, \"name\": \"Drama\"}]\n",
       "4778    [{\"id\": 28, \"name\": \"Action\"}, {\"id\": 18, \"nam...\n",
       "4779                       [{\"id\": 35, \"name\": \"Comedy\"}]\n",
       "4780    [{\"id\": 53, \"name\": \"Thriller\"}, {\"id\": 80, \"n...\n",
       "4781    [{\"id\": 35, \"name\": \"Comedy\"}, {\"id\": 10749, \"...\n",
       "4782    [{\"id\": 18, \"name\": \"Drama\"}, {\"id\": 10751, \"n...\n",
       "4783    [{\"id\": 53, \"name\": \"Thriller\"}, {\"id\": 27, \"n...\n",
       "4784    [{\"id\": 18, \"name\": \"Drama\"}, {\"id\": 35, \"name...\n",
       "4785                        [{\"id\": 18, \"name\": \"Drama\"}]\n",
       "4786    [{\"id\": 35, \"name\": \"Comedy\"}, {\"id\": 10749, \"...\n",
       "4787    [{\"id\": 878, \"name\": \"Science Fiction\"}, {\"id\"...\n",
       "4788    [{\"id\": 27, \"name\": \"Horror\"}, {\"id\": 35, \"nam...\n",
       "4789                        [{\"id\": 18, \"name\": \"Drama\"}]\n",
       "4790    [{\"id\": 18, \"name\": \"Drama\"}, {\"id\": 10769, \"n...\n",
       "4791                       [{\"id\": 27, \"name\": \"Horror\"}]\n",
       "4792    [{\"id\": 80, \"name\": \"Crime\"}, {\"id\": 27, \"name...\n",
       "4793                        [{\"id\": 18, \"name\": \"Drama\"}]\n",
       "4794    [{\"id\": 53, \"name\": \"Thriller\"}, {\"id\": 27, \"n...\n",
       "4795                        [{\"id\": 18, \"name\": \"Drama\"}]\n",
       "4796    [{\"id\": 878, \"name\": \"Science Fiction\"}, {\"id\"...\n",
       "4797    [{\"id\": 10769, \"name\": \"Foreign\"}, {\"id\": 53, ...\n",
       "4798    [{\"id\": 28, \"name\": \"Action\"}, {\"id\": 80, \"nam...\n",
       "4799    [{\"id\": 35, \"name\": \"Comedy\"}, {\"id\": 10749, \"...\n",
       "4800    [{\"id\": 35, \"name\": \"Comedy\"}, {\"id\": 18, \"nam...\n",
       "4802                  [{\"id\": 99, \"name\": \"Documentary\"}]\n",
       "Name: genres, Length: 4775, dtype: object"
      ]
     },
     "execution_count": 9,
     "metadata": {},
     "output_type": "execute_result"
    }
   ],
   "source": [
    "movies['genres']"
   ]
  },
  {
   "cell_type": "markdown",
   "metadata": {
    "id": "_w0dJ-GMMohe"
   },
   "source": [
    "**Converting the json format to a list of strings**\n"
   ]
  },
  {
   "cell_type": "code",
   "execution_count": 10,
   "metadata": {
    "id": "ItsuqiTjAUAF"
   },
   "outputs": [],
   "source": [
    "import json\n",
    "import warnings\n",
    "from ast import literal_eval\n",
    "warnings.filterwarnings('ignore')\n",
    "from IPython.display import HTML"
   ]
  },
  {
   "cell_type": "code",
   "execution_count": 11,
   "metadata": {
    "id": "_Q8OKeRbKNXY"
   },
   "outputs": [],
   "source": [
    "df=movies"
   ]
  },
  {
   "cell_type": "code",
   "execution_count": 12,
   "metadata": {
    "id": "urhfIoEqKUrB"
   },
   "outputs": [],
   "source": [
    "# Parse stringed list features into python objects\n",
    "features = ['keywords', 'genres','production_companies', 'production_countries', 'spoken_languages']\n",
    "for i in features:\n",
    "    df[i] = movies[i].apply(literal_eval)\n",
    "    "
   ]
  },
  {
   "cell_type": "code",
   "execution_count": 13,
   "metadata": {
    "id": "YNQRr7MoK2cH"
   },
   "outputs": [],
   "source": [
    "def list_genres(x):\n",
    "    l = [d['name'] for d in x]\n",
    "    return(l)\n",
    "df['genres'] = df['genres'].apply(list_genres)"
   ]
  },
  {
   "cell_type": "code",
   "execution_count": 14,
   "metadata": {
    "id": "gbxT1lFYK9xr"
   },
   "outputs": [],
   "source": [
    "def list_keywords(x):\n",
    "    l = [d['name'] for d in x]\n",
    "    return(l)\n",
    "df['keywords'] = df['keywords'].apply(list_keywords)"
   ]
  },
  {
   "cell_type": "code",
   "execution_count": 15,
   "metadata": {
    "id": "60neyPgxLOIZ"
   },
   "outputs": [],
   "source": [
    "def list_companies(x):\n",
    "    l = [d['name'] for d in x]\n",
    "    return(l)\n",
    "df['production_companies'] = df['production_companies'].apply(list_companies)"
   ]
  },
  {
   "cell_type": "code",
   "execution_count": 16,
   "metadata": {
    "id": "ov7wpwyULcoC"
   },
   "outputs": [],
   "source": [
    "def list_countries(x):\n",
    "    l = [d['name'] for d in x]\n",
    "    return(l)\n",
    "df['production_countries'] = df['production_countries'].apply(list_countries)"
   ]
  },
  {
   "cell_type": "code",
   "execution_count": 17,
   "metadata": {
    "id": "G2jq0m7pLqi_"
   },
   "outputs": [],
   "source": [
    "def list_languages(x):\n",
    "    l = [d['name'] for d in x]\n",
    "    return(l)\n",
    "df['spoken_languages'] = df['spoken_languages'].apply(list_languages)"
   ]
  },
  {
   "cell_type": "code",
   "execution_count": 18,
   "metadata": {
    "colab": {
     "base_uri": "https://localhost:8080/",
     "height": 335
    },
    "id": "iAetpSn_Jg3i",
    "outputId": "712f4e3d-2b87-4b40-8175-12c143536647"
   },
   "outputs": [
    {
     "data": {
      "text/html": [
       "<div>\n",
       "<style scoped>\n",
       "    .dataframe tbody tr th:only-of-type {\n",
       "        vertical-align: middle;\n",
       "    }\n",
       "\n",
       "    .dataframe tbody tr th {\n",
       "        vertical-align: top;\n",
       "    }\n",
       "\n",
       "    .dataframe thead th {\n",
       "        text-align: right;\n",
       "    }\n",
       "</style>\n",
       "<table border=\"1\" class=\"dataframe\">\n",
       "  <thead>\n",
       "    <tr style=\"text-align: right;\">\n",
       "      <th></th>\n",
       "      <th>budget</th>\n",
       "      <th>genres</th>\n",
       "      <th>homepage</th>\n",
       "      <th>id</th>\n",
       "      <th>keywords</th>\n",
       "      <th>original_language</th>\n",
       "      <th>original_title</th>\n",
       "      <th>overview</th>\n",
       "      <th>popularity</th>\n",
       "      <th>production_companies</th>\n",
       "      <th>production_countries</th>\n",
       "      <th>release_date</th>\n",
       "      <th>revenue</th>\n",
       "      <th>runtime</th>\n",
       "      <th>spoken_languages</th>\n",
       "      <th>status</th>\n",
       "      <th>tagline</th>\n",
       "      <th>title</th>\n",
       "      <th>vote_average</th>\n",
       "      <th>vote_count</th>\n",
       "    </tr>\n",
       "  </thead>\n",
       "  <tbody>\n",
       "    <tr>\n",
       "      <th>0</th>\n",
       "      <td>237000000</td>\n",
       "      <td>[Action, Adventure, Fantasy, Science Fiction]</td>\n",
       "      <td>http://www.avatarmovie.com/</td>\n",
       "      <td>19995</td>\n",
       "      <td>[culture clash, future, space war, space colon...</td>\n",
       "      <td>en</td>\n",
       "      <td>Avatar</td>\n",
       "      <td>In the 22nd century, a paraplegic Marine is di...</td>\n",
       "      <td>150.437577</td>\n",
       "      <td>[Ingenious Film Partners, Twentieth Century Fo...</td>\n",
       "      <td>[United States of America, United Kingdom]</td>\n",
       "      <td>2009-12-10</td>\n",
       "      <td>2787965087</td>\n",
       "      <td>162.0</td>\n",
       "      <td>[English, Español]</td>\n",
       "      <td>Released</td>\n",
       "      <td>Enter the World of Pandora.</td>\n",
       "      <td>Avatar</td>\n",
       "      <td>7.2</td>\n",
       "      <td>11800</td>\n",
       "    </tr>\n",
       "    <tr>\n",
       "      <th>1</th>\n",
       "      <td>300000000</td>\n",
       "      <td>[Adventure, Fantasy, Action]</td>\n",
       "      <td>http://disney.go.com/disneypictures/pirates/</td>\n",
       "      <td>285</td>\n",
       "      <td>[ocean, drug abuse, exotic island, east india ...</td>\n",
       "      <td>en</td>\n",
       "      <td>Pirates of the Caribbean: At World's End</td>\n",
       "      <td>Captain Barbossa, long believed to be dead, ha...</td>\n",
       "      <td>139.082615</td>\n",
       "      <td>[Walt Disney Pictures, Jerry Bruckheimer Films...</td>\n",
       "      <td>[United States of America]</td>\n",
       "      <td>2007-05-19</td>\n",
       "      <td>961000000</td>\n",
       "      <td>169.0</td>\n",
       "      <td>[English]</td>\n",
       "      <td>Released</td>\n",
       "      <td>At the end of the world, the adventure begins.</td>\n",
       "      <td>Pirates of the Caribbean: At World's End</td>\n",
       "      <td>6.9</td>\n",
       "      <td>4500</td>\n",
       "    </tr>\n",
       "  </tbody>\n",
       "</table>\n",
       "</div>"
      ],
      "text/plain": [
       "      budget                                         genres  \\\n",
       "0  237000000  [Action, Adventure, Fantasy, Science Fiction]   \n",
       "1  300000000                   [Adventure, Fantasy, Action]   \n",
       "\n",
       "                                       homepage     id  \\\n",
       "0                   http://www.avatarmovie.com/  19995   \n",
       "1  http://disney.go.com/disneypictures/pirates/    285   \n",
       "\n",
       "                                            keywords original_language  \\\n",
       "0  [culture clash, future, space war, space colon...                en   \n",
       "1  [ocean, drug abuse, exotic island, east india ...                en   \n",
       "\n",
       "                             original_title  \\\n",
       "0                                    Avatar   \n",
       "1  Pirates of the Caribbean: At World's End   \n",
       "\n",
       "                                            overview  popularity  \\\n",
       "0  In the 22nd century, a paraplegic Marine is di...  150.437577   \n",
       "1  Captain Barbossa, long believed to be dead, ha...  139.082615   \n",
       "\n",
       "                                production_companies  \\\n",
       "0  [Ingenious Film Partners, Twentieth Century Fo...   \n",
       "1  [Walt Disney Pictures, Jerry Bruckheimer Films...   \n",
       "\n",
       "                         production_countries release_date     revenue  \\\n",
       "0  [United States of America, United Kingdom]   2009-12-10  2787965087   \n",
       "1                  [United States of America]   2007-05-19   961000000   \n",
       "\n",
       "   runtime    spoken_languages    status  \\\n",
       "0    162.0  [English, Español]  Released   \n",
       "1    169.0           [English]  Released   \n",
       "\n",
       "                                          tagline  \\\n",
       "0                     Enter the World of Pandora.   \n",
       "1  At the end of the world, the adventure begins.   \n",
       "\n",
       "                                      title  vote_average  vote_count  \n",
       "0                                    Avatar           7.2       11800  \n",
       "1  Pirates of the Caribbean: At World's End           6.9        4500  "
      ]
     },
     "execution_count": 18,
     "metadata": {},
     "output_type": "execute_result"
    }
   ],
   "source": [
    "df.head(2)"
   ]
  },
  {
   "cell_type": "code",
   "execution_count": null,
   "metadata": {
    "id": "UR8TIYlo6VCb"
   },
   "outputs": [],
   "source": []
  },
  {
   "cell_type": "markdown",
   "metadata": {
    "id": "Cm9heASxUe1d"
   },
   "source": [
    "#**Credits Dataset**"
   ]
  },
  {
   "cell_type": "code",
   "execution_count": 19,
   "metadata": {
    "colab": {
     "base_uri": "https://localhost:8080/",
     "height": 204
    },
    "id": "knH_mHYe_UvJ",
    "outputId": "329d9b5e-a4a1-4fc3-8091-9f27a79b1fdb"
   },
   "outputs": [
    {
     "data": {
      "text/html": [
       "<div>\n",
       "<style scoped>\n",
       "    .dataframe tbody tr th:only-of-type {\n",
       "        vertical-align: middle;\n",
       "    }\n",
       "\n",
       "    .dataframe tbody tr th {\n",
       "        vertical-align: top;\n",
       "    }\n",
       "\n",
       "    .dataframe thead th {\n",
       "        text-align: right;\n",
       "    }\n",
       "</style>\n",
       "<table border=\"1\" class=\"dataframe\">\n",
       "  <thead>\n",
       "    <tr style=\"text-align: right;\">\n",
       "      <th></th>\n",
       "      <th>movie_id</th>\n",
       "      <th>title</th>\n",
       "      <th>cast</th>\n",
       "      <th>crew</th>\n",
       "    </tr>\n",
       "  </thead>\n",
       "  <tbody>\n",
       "    <tr>\n",
       "      <th>0</th>\n",
       "      <td>19995</td>\n",
       "      <td>Avatar</td>\n",
       "      <td>[{\"cast_id\": 242, \"character\": \"Jake Sully\", \"...</td>\n",
       "      <td>[{\"credit_id\": \"52fe48009251416c750aca23\", \"de...</td>\n",
       "    </tr>\n",
       "    <tr>\n",
       "      <th>1</th>\n",
       "      <td>285</td>\n",
       "      <td>Pirates of the Caribbean: At World's End</td>\n",
       "      <td>[{\"cast_id\": 4, \"character\": \"Captain Jack Spa...</td>\n",
       "      <td>[{\"credit_id\": \"52fe4232c3a36847f800b579\", \"de...</td>\n",
       "    </tr>\n",
       "    <tr>\n",
       "      <th>2</th>\n",
       "      <td>206647</td>\n",
       "      <td>Spectre</td>\n",
       "      <td>[{\"cast_id\": 1, \"character\": \"James Bond\", \"cr...</td>\n",
       "      <td>[{\"credit_id\": \"54805967c3a36829b5002c41\", \"de...</td>\n",
       "    </tr>\n",
       "    <tr>\n",
       "      <th>3</th>\n",
       "      <td>49026</td>\n",
       "      <td>The Dark Knight Rises</td>\n",
       "      <td>[{\"cast_id\": 2, \"character\": \"Bruce Wayne / Ba...</td>\n",
       "      <td>[{\"credit_id\": \"52fe4781c3a36847f81398c3\", \"de...</td>\n",
       "    </tr>\n",
       "    <tr>\n",
       "      <th>4</th>\n",
       "      <td>49529</td>\n",
       "      <td>John Carter</td>\n",
       "      <td>[{\"cast_id\": 5, \"character\": \"John Carter\", \"c...</td>\n",
       "      <td>[{\"credit_id\": \"52fe479ac3a36847f813eaa3\", \"de...</td>\n",
       "    </tr>\n",
       "  </tbody>\n",
       "</table>\n",
       "</div>"
      ],
      "text/plain": [
       "   movie_id                                     title  \\\n",
       "0     19995                                    Avatar   \n",
       "1       285  Pirates of the Caribbean: At World's End   \n",
       "2    206647                                   Spectre   \n",
       "3     49026                     The Dark Knight Rises   \n",
       "4     49529                               John Carter   \n",
       "\n",
       "                                                cast  \\\n",
       "0  [{\"cast_id\": 242, \"character\": \"Jake Sully\", \"...   \n",
       "1  [{\"cast_id\": 4, \"character\": \"Captain Jack Spa...   \n",
       "2  [{\"cast_id\": 1, \"character\": \"James Bond\", \"cr...   \n",
       "3  [{\"cast_id\": 2, \"character\": \"Bruce Wayne / Ba...   \n",
       "4  [{\"cast_id\": 5, \"character\": \"John Carter\", \"c...   \n",
       "\n",
       "                                                crew  \n",
       "0  [{\"credit_id\": \"52fe48009251416c750aca23\", \"de...  \n",
       "1  [{\"credit_id\": \"52fe4232c3a36847f800b579\", \"de...  \n",
       "2  [{\"credit_id\": \"54805967c3a36829b5002c41\", \"de...  \n",
       "3  [{\"credit_id\": \"52fe4781c3a36847f81398c3\", \"de...  \n",
       "4  [{\"credit_id\": \"52fe479ac3a36847f813eaa3\", \"de...  "
      ]
     },
     "execution_count": 19,
     "metadata": {},
     "output_type": "execute_result"
    }
   ],
   "source": [
    "credits.head()"
   ]
  },
  {
   "cell_type": "code",
   "execution_count": 20,
   "metadata": {
    "colab": {
     "base_uri": "https://localhost:8080/"
    },
    "id": "m_3M6yfB_ekm",
    "outputId": "2f9fd2ad-3a31-40ca-d8d4-eba476ec6ecf"
   },
   "outputs": [
    {
     "data": {
      "text/plain": [
       "(4803, 4)"
      ]
     },
     "execution_count": 20,
     "metadata": {},
     "output_type": "execute_result"
    }
   ],
   "source": [
    "credits.shape"
   ]
  },
  {
   "cell_type": "code",
   "execution_count": 21,
   "metadata": {
    "colab": {
     "base_uri": "https://localhost:8080/"
    },
    "id": "0hAGBHRbS8mf",
    "outputId": "78bc14b9-d7e5-4c01-e418-8d5aba8717e4"
   },
   "outputs": [
    {
     "data": {
      "text/plain": [
       "movie_id    0\n",
       "title       0\n",
       "cast        0\n",
       "crew        0\n",
       "dtype: int64"
      ]
     },
     "execution_count": 21,
     "metadata": {},
     "output_type": "execute_result"
    }
   ],
   "source": [
    "credits.isnull().sum()"
   ]
  },
  {
   "cell_type": "code",
   "execution_count": 22,
   "metadata": {
    "colab": {
     "base_uri": "https://localhost:8080/"
    },
    "id": "nKPbGM9DTAyn",
    "outputId": "f8b84ae6-79c9-44d8-c01c-8048459dced5"
   },
   "outputs": [
    {
     "name": "stdout",
     "output_type": "stream",
     "text": [
      "<class 'pandas.core.frame.DataFrame'>\n",
      "RangeIndex: 4803 entries, 0 to 4802\n",
      "Data columns (total 4 columns):\n",
      "movie_id    4803 non-null int64\n",
      "title       4803 non-null object\n",
      "cast        4803 non-null object\n",
      "crew        4803 non-null object\n",
      "dtypes: int64(1), object(3)\n",
      "memory usage: 150.2+ KB\n"
     ]
    }
   ],
   "source": [
    "credits.info()"
   ]
  },
  {
   "cell_type": "code",
   "execution_count": 23,
   "metadata": {
    "id": "MfTvP5QGTC9O"
   },
   "outputs": [],
   "source": [
    "df1 = credits.copy()"
   ]
  },
  {
   "cell_type": "code",
   "execution_count": 24,
   "metadata": {
    "id": "g7hp14CbVSxj"
   },
   "outputs": [],
   "source": [
    "features = ['cast','crew']\n",
    "for i in features:\n",
    "    df1[i] = credits[i].apply(literal_eval)"
   ]
  },
  {
   "cell_type": "markdown",
   "metadata": {
    "id": "eKfPpN-3oVtF"
   },
   "source": [
    "Extracting only the director from crew since other crew members dont matter much"
   ]
  },
  {
   "cell_type": "code",
   "execution_count": 25,
   "metadata": {
    "id": "2R2eauulVrZu"
   },
   "outputs": [],
   "source": [
    "def director(x):\n",
    "    for i in x:\n",
    "        if i['job'] == 'Director':\n",
    "            return i['name']\n",
    "df1['crew']=df1['crew'].apply(director)\n",
    "df1.rename(columns={'crew':'director'},inplace=True)"
   ]
  },
  {
   "cell_type": "markdown",
   "metadata": {
    "id": "svHvCfdPoiP9"
   },
   "source": [
    "Converting json format to list of strings for cast column"
   ]
  },
  {
   "cell_type": "code",
   "execution_count": 26,
   "metadata": {
    "id": "nP54s9nbV_i1"
   },
   "outputs": [],
   "source": [
    "def list_cast(x):\n",
    "    l = [d['name'] for d in x]\n",
    "    return(l)\n",
    "df1['cast'] = df1['cast'].apply(list_cast)"
   ]
  },
  {
   "cell_type": "code",
   "execution_count": 27,
   "metadata": {
    "colab": {
     "base_uri": "https://localhost:8080/",
     "height": 204
    },
    "id": "SN7DrbqDV47q",
    "outputId": "b2262d79-4d6f-43ce-ed2c-3258a1ab4fbc"
   },
   "outputs": [
    {
     "data": {
      "text/html": [
       "<div>\n",
       "<style scoped>\n",
       "    .dataframe tbody tr th:only-of-type {\n",
       "        vertical-align: middle;\n",
       "    }\n",
       "\n",
       "    .dataframe tbody tr th {\n",
       "        vertical-align: top;\n",
       "    }\n",
       "\n",
       "    .dataframe thead th {\n",
       "        text-align: right;\n",
       "    }\n",
       "</style>\n",
       "<table border=\"1\" class=\"dataframe\">\n",
       "  <thead>\n",
       "    <tr style=\"text-align: right;\">\n",
       "      <th></th>\n",
       "      <th>movie_id</th>\n",
       "      <th>title</th>\n",
       "      <th>cast</th>\n",
       "      <th>director</th>\n",
       "    </tr>\n",
       "  </thead>\n",
       "  <tbody>\n",
       "    <tr>\n",
       "      <th>0</th>\n",
       "      <td>19995</td>\n",
       "      <td>Avatar</td>\n",
       "      <td>[Sam Worthington, Zoe Saldana, Sigourney Weave...</td>\n",
       "      <td>James Cameron</td>\n",
       "    </tr>\n",
       "    <tr>\n",
       "      <th>1</th>\n",
       "      <td>285</td>\n",
       "      <td>Pirates of the Caribbean: At World's End</td>\n",
       "      <td>[Johnny Depp, Orlando Bloom, Keira Knightley, ...</td>\n",
       "      <td>Gore Verbinski</td>\n",
       "    </tr>\n",
       "    <tr>\n",
       "      <th>2</th>\n",
       "      <td>206647</td>\n",
       "      <td>Spectre</td>\n",
       "      <td>[Daniel Craig, Christoph Waltz, Léa Seydoux, R...</td>\n",
       "      <td>Sam Mendes</td>\n",
       "    </tr>\n",
       "    <tr>\n",
       "      <th>3</th>\n",
       "      <td>49026</td>\n",
       "      <td>The Dark Knight Rises</td>\n",
       "      <td>[Christian Bale, Michael Caine, Gary Oldman, A...</td>\n",
       "      <td>Christopher Nolan</td>\n",
       "    </tr>\n",
       "    <tr>\n",
       "      <th>4</th>\n",
       "      <td>49529</td>\n",
       "      <td>John Carter</td>\n",
       "      <td>[Taylor Kitsch, Lynn Collins, Samantha Morton,...</td>\n",
       "      <td>Andrew Stanton</td>\n",
       "    </tr>\n",
       "  </tbody>\n",
       "</table>\n",
       "</div>"
      ],
      "text/plain": [
       "   movie_id                                     title  \\\n",
       "0     19995                                    Avatar   \n",
       "1       285  Pirates of the Caribbean: At World's End   \n",
       "2    206647                                   Spectre   \n",
       "3     49026                     The Dark Knight Rises   \n",
       "4     49529                               John Carter   \n",
       "\n",
       "                                                cast           director  \n",
       "0  [Sam Worthington, Zoe Saldana, Sigourney Weave...      James Cameron  \n",
       "1  [Johnny Depp, Orlando Bloom, Keira Knightley, ...     Gore Verbinski  \n",
       "2  [Daniel Craig, Christoph Waltz, Léa Seydoux, R...         Sam Mendes  \n",
       "3  [Christian Bale, Michael Caine, Gary Oldman, A...  Christopher Nolan  \n",
       "4  [Taylor Kitsch, Lynn Collins, Samantha Morton,...     Andrew Stanton  "
      ]
     },
     "execution_count": 27,
     "metadata": {},
     "output_type": "execute_result"
    }
   ],
   "source": [
    "df1.head()"
   ]
  },
  {
   "cell_type": "code",
   "execution_count": 28,
   "metadata": {
    "id": "sFxCh-yGNN7b"
   },
   "outputs": [],
   "source": [
    "df1 = df1[df1.astype(str)['cast'] != '[]']"
   ]
  },
  {
   "cell_type": "code",
   "execution_count": 29,
   "metadata": {
    "id": "JTNXeIeuwSxW"
   },
   "outputs": [],
   "source": [
    "df1.rename(columns = {'movie_id':'id'}, inplace = True) "
   ]
  },
  {
   "cell_type": "code",
   "execution_count": 30,
   "metadata": {
    "colab": {
     "base_uri": "https://localhost:8080/",
     "height": 204
    },
    "id": "jQVt3oB_rKl9",
    "outputId": "6fc00026-62e9-4152-807c-bb8e0d51eea5"
   },
   "outputs": [
    {
     "data": {
      "text/html": [
       "<div>\n",
       "<style scoped>\n",
       "    .dataframe tbody tr th:only-of-type {\n",
       "        vertical-align: middle;\n",
       "    }\n",
       "\n",
       "    .dataframe tbody tr th {\n",
       "        vertical-align: top;\n",
       "    }\n",
       "\n",
       "    .dataframe thead th {\n",
       "        text-align: right;\n",
       "    }\n",
       "</style>\n",
       "<table border=\"1\" class=\"dataframe\">\n",
       "  <thead>\n",
       "    <tr style=\"text-align: right;\">\n",
       "      <th></th>\n",
       "      <th>id</th>\n",
       "      <th>title</th>\n",
       "      <th>cast</th>\n",
       "      <th>director</th>\n",
       "    </tr>\n",
       "  </thead>\n",
       "  <tbody>\n",
       "    <tr>\n",
       "      <th>0</th>\n",
       "      <td>19995</td>\n",
       "      <td>Avatar</td>\n",
       "      <td>[Sam Worthington, Zoe Saldana, Sigourney Weave...</td>\n",
       "      <td>James Cameron</td>\n",
       "    </tr>\n",
       "    <tr>\n",
       "      <th>1</th>\n",
       "      <td>285</td>\n",
       "      <td>Pirates of the Caribbean: At World's End</td>\n",
       "      <td>[Johnny Depp, Orlando Bloom, Keira Knightley, ...</td>\n",
       "      <td>Gore Verbinski</td>\n",
       "    </tr>\n",
       "    <tr>\n",
       "      <th>2</th>\n",
       "      <td>206647</td>\n",
       "      <td>Spectre</td>\n",
       "      <td>[Daniel Craig, Christoph Waltz, Léa Seydoux, R...</td>\n",
       "      <td>Sam Mendes</td>\n",
       "    </tr>\n",
       "    <tr>\n",
       "      <th>3</th>\n",
       "      <td>49026</td>\n",
       "      <td>The Dark Knight Rises</td>\n",
       "      <td>[Christian Bale, Michael Caine, Gary Oldman, A...</td>\n",
       "      <td>Christopher Nolan</td>\n",
       "    </tr>\n",
       "    <tr>\n",
       "      <th>4</th>\n",
       "      <td>49529</td>\n",
       "      <td>John Carter</td>\n",
       "      <td>[Taylor Kitsch, Lynn Collins, Samantha Morton,...</td>\n",
       "      <td>Andrew Stanton</td>\n",
       "    </tr>\n",
       "  </tbody>\n",
       "</table>\n",
       "</div>"
      ],
      "text/plain": [
       "       id                                     title  \\\n",
       "0   19995                                    Avatar   \n",
       "1     285  Pirates of the Caribbean: At World's End   \n",
       "2  206647                                   Spectre   \n",
       "3   49026                     The Dark Knight Rises   \n",
       "4   49529                               John Carter   \n",
       "\n",
       "                                                cast           director  \n",
       "0  [Sam Worthington, Zoe Saldana, Sigourney Weave...      James Cameron  \n",
       "1  [Johnny Depp, Orlando Bloom, Keira Knightley, ...     Gore Verbinski  \n",
       "2  [Daniel Craig, Christoph Waltz, Léa Seydoux, R...         Sam Mendes  \n",
       "3  [Christian Bale, Michael Caine, Gary Oldman, A...  Christopher Nolan  \n",
       "4  [Taylor Kitsch, Lynn Collins, Samantha Morton,...     Andrew Stanton  "
      ]
     },
     "execution_count": 30,
     "metadata": {},
     "output_type": "execute_result"
    }
   ],
   "source": [
    "df1.head()"
   ]
  },
  {
   "cell_type": "markdown",
   "metadata": {
    "id": "2d_2L-RJHKqt"
   },
   "source": [
    "#**Extracting Features**\n"
   ]
  },
  {
   "cell_type": "markdown",
   "metadata": {
    "id": "WzvyOue2oR5E"
   },
   "source": [
    "Merging both datasets"
   ]
  },
  {
   "cell_type": "code",
   "execution_count": 31,
   "metadata": {
    "id": "FJzOqIrYV7AE"
   },
   "outputs": [],
   "source": [
    "alldata = df.merge(df1, on = 'id')"
   ]
  },
  {
   "cell_type": "markdown",
   "metadata": {
    "id": "NJOt-vYgnd5C"
   },
   "source": [
    "Checking if title_x from movies dataset and title_y from credits dataset match"
   ]
  },
  {
   "cell_type": "code",
   "execution_count": 32,
   "metadata": {
    "colab": {
     "base_uri": "https://localhost:8080/"
    },
    "id": "9y9EfWOfewo_",
    "outputId": "4334de27-d365-4dbf-a81b-6ecaa28a7624"
   },
   "outputs": [
    {
     "data": {
      "text/plain": [
       "True"
      ]
     },
     "execution_count": 32,
     "metadata": {},
     "output_type": "execute_result"
    }
   ],
   "source": [
    "alldata['title_y'].equals(alldata['title_x'])"
   ]
  },
  {
   "cell_type": "markdown",
   "metadata": {
    "id": "76PYltU_n2PM"
   },
   "source": [
    "Checking if title_x from movies dataset and original_title from credits dataset match"
   ]
  },
  {
   "cell_type": "code",
   "execution_count": 33,
   "metadata": {
    "colab": {
     "base_uri": "https://localhost:8080/"
    },
    "id": "wxXQlceXla_1",
    "outputId": "8b31d8b5-0580-4ade-dbb0-aaf355ce74c8"
   },
   "outputs": [
    {
     "data": {
      "text/plain": [
       "False"
      ]
     },
     "execution_count": 33,
     "metadata": {},
     "output_type": "execute_result"
    }
   ],
   "source": [
    "alldata['original_title'].equals(alldata['title_x'])"
   ]
  },
  {
   "cell_type": "markdown",
   "metadata": {
    "id": "VcpX2WPCJhx5"
   },
   "source": [
    "Extracting only the year from release date"
   ]
  },
  {
   "cell_type": "code",
   "execution_count": 34,
   "metadata": {
    "id": "SRItUHSm3RWQ"
   },
   "outputs": [],
   "source": [
    "alldata['year'] = pd.DatetimeIndex(alldata['release_date']).year"
   ]
  },
  {
   "cell_type": "markdown",
   "metadata": {
    "id": "o1SHRZTHn6y8"
   },
   "source": [
    "Dropping the unnessary columns along with title_x and original_title(because it contains title in another language)"
   ]
  },
  {
   "cell_type": "code",
   "execution_count": 35,
   "metadata": {
    "id": "RoOCToWaNAmn"
   },
   "outputs": [],
   "source": [
    "alldata.drop(columns=['status', 'original_title', 'homepage', 'id', 'spoken_languages', 'original_title', 'title_x','release_date' ], axis=1, inplace=True)"
   ]
  },
  {
   "cell_type": "code",
   "execution_count": 36,
   "metadata": {
    "colab": {
     "base_uri": "https://localhost:8080/",
     "height": 335
    },
    "id": "i3VLknq2s9zP",
    "outputId": "5aeb54cb-3af5-4b70-b8b2-8196454c39df"
   },
   "outputs": [
    {
     "data": {
      "text/html": [
       "<div>\n",
       "<style scoped>\n",
       "    .dataframe tbody tr th:only-of-type {\n",
       "        vertical-align: middle;\n",
       "    }\n",
       "\n",
       "    .dataframe tbody tr th {\n",
       "        vertical-align: top;\n",
       "    }\n",
       "\n",
       "    .dataframe thead th {\n",
       "        text-align: right;\n",
       "    }\n",
       "</style>\n",
       "<table border=\"1\" class=\"dataframe\">\n",
       "  <thead>\n",
       "    <tr style=\"text-align: right;\">\n",
       "      <th></th>\n",
       "      <th>budget</th>\n",
       "      <th>genres</th>\n",
       "      <th>keywords</th>\n",
       "      <th>original_language</th>\n",
       "      <th>overview</th>\n",
       "      <th>popularity</th>\n",
       "      <th>production_companies</th>\n",
       "      <th>production_countries</th>\n",
       "      <th>revenue</th>\n",
       "      <th>runtime</th>\n",
       "      <th>tagline</th>\n",
       "      <th>vote_average</th>\n",
       "      <th>vote_count</th>\n",
       "      <th>title_y</th>\n",
       "      <th>cast</th>\n",
       "      <th>director</th>\n",
       "      <th>year</th>\n",
       "    </tr>\n",
       "  </thead>\n",
       "  <tbody>\n",
       "    <tr>\n",
       "      <th>0</th>\n",
       "      <td>237000000</td>\n",
       "      <td>[Action, Adventure, Fantasy, Science Fiction]</td>\n",
       "      <td>[culture clash, future, space war, space colon...</td>\n",
       "      <td>en</td>\n",
       "      <td>In the 22nd century, a paraplegic Marine is di...</td>\n",
       "      <td>150.437577</td>\n",
       "      <td>[Ingenious Film Partners, Twentieth Century Fo...</td>\n",
       "      <td>[United States of America, United Kingdom]</td>\n",
       "      <td>2787965087</td>\n",
       "      <td>162.0</td>\n",
       "      <td>Enter the World of Pandora.</td>\n",
       "      <td>7.2</td>\n",
       "      <td>11800</td>\n",
       "      <td>Avatar</td>\n",
       "      <td>[Sam Worthington, Zoe Saldana, Sigourney Weave...</td>\n",
       "      <td>James Cameron</td>\n",
       "      <td>2009</td>\n",
       "    </tr>\n",
       "    <tr>\n",
       "      <th>1</th>\n",
       "      <td>300000000</td>\n",
       "      <td>[Adventure, Fantasy, Action]</td>\n",
       "      <td>[ocean, drug abuse, exotic island, east india ...</td>\n",
       "      <td>en</td>\n",
       "      <td>Captain Barbossa, long believed to be dead, ha...</td>\n",
       "      <td>139.082615</td>\n",
       "      <td>[Walt Disney Pictures, Jerry Bruckheimer Films...</td>\n",
       "      <td>[United States of America]</td>\n",
       "      <td>961000000</td>\n",
       "      <td>169.0</td>\n",
       "      <td>At the end of the world, the adventure begins.</td>\n",
       "      <td>6.9</td>\n",
       "      <td>4500</td>\n",
       "      <td>Pirates of the Caribbean: At World's End</td>\n",
       "      <td>[Johnny Depp, Orlando Bloom, Keira Knightley, ...</td>\n",
       "      <td>Gore Verbinski</td>\n",
       "      <td>2007</td>\n",
       "    </tr>\n",
       "  </tbody>\n",
       "</table>\n",
       "</div>"
      ],
      "text/plain": [
       "      budget                                         genres  \\\n",
       "0  237000000  [Action, Adventure, Fantasy, Science Fiction]   \n",
       "1  300000000                   [Adventure, Fantasy, Action]   \n",
       "\n",
       "                                            keywords original_language  \\\n",
       "0  [culture clash, future, space war, space colon...                en   \n",
       "1  [ocean, drug abuse, exotic island, east india ...                en   \n",
       "\n",
       "                                            overview  popularity  \\\n",
       "0  In the 22nd century, a paraplegic Marine is di...  150.437577   \n",
       "1  Captain Barbossa, long believed to be dead, ha...  139.082615   \n",
       "\n",
       "                                production_companies  \\\n",
       "0  [Ingenious Film Partners, Twentieth Century Fo...   \n",
       "1  [Walt Disney Pictures, Jerry Bruckheimer Films...   \n",
       "\n",
       "                         production_countries     revenue  runtime  \\\n",
       "0  [United States of America, United Kingdom]  2787965087    162.0   \n",
       "1                  [United States of America]   961000000    169.0   \n",
       "\n",
       "                                          tagline  vote_average  vote_count  \\\n",
       "0                     Enter the World of Pandora.           7.2       11800   \n",
       "1  At the end of the world, the adventure begins.           6.9        4500   \n",
       "\n",
       "                                    title_y  \\\n",
       "0                                    Avatar   \n",
       "1  Pirates of the Caribbean: At World's End   \n",
       "\n",
       "                                                cast        director  year  \n",
       "0  [Sam Worthington, Zoe Saldana, Sigourney Weave...   James Cameron  2009  \n",
       "1  [Johnny Depp, Orlando Bloom, Keira Knightley, ...  Gore Verbinski  2007  "
      ]
     },
     "execution_count": 36,
     "metadata": {},
     "output_type": "execute_result"
    }
   ],
   "source": [
    "alldata.head(2)"
   ]
  },
  {
   "cell_type": "markdown",
   "metadata": {
    "id": "rsH2O47WoMjb"
   },
   "source": [
    "Renaming title_y to title"
   ]
  },
  {
   "cell_type": "code",
   "execution_count": 37,
   "metadata": {
    "id": "h_mHukV1s_od"
   },
   "outputs": [],
   "source": [
    "alldata.rename(columns = {'title_y':'title'}, inplace = True) "
   ]
  },
  {
   "cell_type": "markdown",
   "metadata": {
    "id": "c0VWwKG3nSfj"
   },
   "source": [
    "Combining vote_average and vote_count"
   ]
  },
  {
   "cell_type": "code",
   "execution_count": 38,
   "metadata": {
    "colab": {
     "base_uri": "https://localhost:8080/"
    },
    "id": "8oSLmHvJydtf",
    "outputId": "1ee13d49-e858-4eb5-e474-0aa3cd1efd97"
   },
   "outputs": [
    {
     "name": "stdout",
     "output_type": "stream",
     "text": [
      "6.123841617523163\n"
     ]
    }
   ],
   "source": [
    "#Calculating mean of vote average\n",
    "c=alldata['vote_average'].mean()\n",
    "print(c)"
   ]
  },
  {
   "cell_type": "code",
   "execution_count": 39,
   "metadata": {
    "colab": {
     "base_uri": "https://localhost:8080/"
    },
    "id": "XdXAuyk_ykjg",
    "outputId": "4961d17e-3b46-478a-9bb8-0ebb1e37c971"
   },
   "outputs": [
    {
     "data": {
      "text/plain": [
       "377.0"
      ]
     },
     "execution_count": 39,
     "metadata": {},
     "output_type": "execute_result"
    }
   ],
   "source": [
    "#calculating the vote for 60 percentile movie \n",
    "m=alldata['vote_count'].quantile(0.6)\n",
    "m"
   ]
  },
  {
   "cell_type": "code",
   "execution_count": 40,
   "metadata": {
    "colab": {
     "base_uri": "https://localhost:8080/"
    },
    "id": "zXJBhD55OO09",
    "outputId": "54820f26-747e-448a-ac1e-6c738f37ef43"
   },
   "outputs": [
    {
     "data": {
      "text/plain": [
       "(1901, 17)"
      ]
     },
     "execution_count": 40,
     "metadata": {},
     "output_type": "execute_result"
    }
   ],
   "source": [
    "filtered_movies=alldata.copy().loc[alldata['vote_count']>=m]\n",
    "filtered_movies.shape"
   ]
  },
  {
   "cell_type": "markdown",
   "metadata": {
    "id": "5TWrBHeGJ5X2"
   },
   "source": [
    "Calculating the score"
   ]
  },
  {
   "cell_type": "code",
   "execution_count": 41,
   "metadata": {
    "id": "OX88rLnLP5tT"
   },
   "outputs": [],
   "source": [
    "def imdbscore(x,m=m,c=c):\n",
    "    v=x['vote_count']\n",
    "    r=x['vote_average']\n",
    "    #remember the imdb formula \n",
    "    return (v/(v+m) * r) + (m/(m+v) * c)"
   ]
  },
  {
   "cell_type": "code",
   "execution_count": 42,
   "metadata": {
    "id": "uTzHL0HIQOoR"
   },
   "outputs": [],
   "source": [
    "alldata['score']=filtered_movies.apply(imdbscore,axis=1)"
   ]
  },
  {
   "cell_type": "code",
   "execution_count": 43,
   "metadata": {
    "colab": {
     "base_uri": "https://localhost:8080/",
     "height": 335
    },
    "id": "8MNlg1_ORGD_",
    "outputId": "e57cee56-d503-4802-9bea-27c5b037b7fe"
   },
   "outputs": [
    {
     "data": {
      "text/html": [
       "<div>\n",
       "<style scoped>\n",
       "    .dataframe tbody tr th:only-of-type {\n",
       "        vertical-align: middle;\n",
       "    }\n",
       "\n",
       "    .dataframe tbody tr th {\n",
       "        vertical-align: top;\n",
       "    }\n",
       "\n",
       "    .dataframe thead th {\n",
       "        text-align: right;\n",
       "    }\n",
       "</style>\n",
       "<table border=\"1\" class=\"dataframe\">\n",
       "  <thead>\n",
       "    <tr style=\"text-align: right;\">\n",
       "      <th></th>\n",
       "      <th>budget</th>\n",
       "      <th>genres</th>\n",
       "      <th>keywords</th>\n",
       "      <th>original_language</th>\n",
       "      <th>overview</th>\n",
       "      <th>popularity</th>\n",
       "      <th>production_companies</th>\n",
       "      <th>production_countries</th>\n",
       "      <th>revenue</th>\n",
       "      <th>runtime</th>\n",
       "      <th>tagline</th>\n",
       "      <th>vote_average</th>\n",
       "      <th>vote_count</th>\n",
       "      <th>title</th>\n",
       "      <th>cast</th>\n",
       "      <th>director</th>\n",
       "      <th>year</th>\n",
       "      <th>score</th>\n",
       "    </tr>\n",
       "  </thead>\n",
       "  <tbody>\n",
       "    <tr>\n",
       "      <th>0</th>\n",
       "      <td>237000000</td>\n",
       "      <td>[Action, Adventure, Fantasy, Science Fiction]</td>\n",
       "      <td>[culture clash, future, space war, space colon...</td>\n",
       "      <td>en</td>\n",
       "      <td>In the 22nd century, a paraplegic Marine is di...</td>\n",
       "      <td>150.437577</td>\n",
       "      <td>[Ingenious Film Partners, Twentieth Century Fo...</td>\n",
       "      <td>[United States of America, United Kingdom]</td>\n",
       "      <td>2787965087</td>\n",
       "      <td>162.0</td>\n",
       "      <td>Enter the World of Pandora.</td>\n",
       "      <td>7.2</td>\n",
       "      <td>11800</td>\n",
       "      <td>Avatar</td>\n",
       "      <td>[Sam Worthington, Zoe Saldana, Sigourney Weave...</td>\n",
       "      <td>James Cameron</td>\n",
       "      <td>2009</td>\n",
       "      <td>7.167</td>\n",
       "    </tr>\n",
       "    <tr>\n",
       "      <th>1</th>\n",
       "      <td>300000000</td>\n",
       "      <td>[Adventure, Fantasy, Action]</td>\n",
       "      <td>[ocean, drug abuse, exotic island, east india ...</td>\n",
       "      <td>en</td>\n",
       "      <td>Captain Barbossa, long believed to be dead, ha...</td>\n",
       "      <td>139.082615</td>\n",
       "      <td>[Walt Disney Pictures, Jerry Bruckheimer Films...</td>\n",
       "      <td>[United States of America]</td>\n",
       "      <td>961000000</td>\n",
       "      <td>169.0</td>\n",
       "      <td>At the end of the world, the adventure begins.</td>\n",
       "      <td>6.9</td>\n",
       "      <td>4500</td>\n",
       "      <td>Pirates of the Caribbean: At World's End</td>\n",
       "      <td>[Johnny Depp, Orlando Bloom, Keira Knightley, ...</td>\n",
       "      <td>Gore Verbinski</td>\n",
       "      <td>2007</td>\n",
       "      <td>6.840</td>\n",
       "    </tr>\n",
       "  </tbody>\n",
       "</table>\n",
       "</div>"
      ],
      "text/plain": [
       "      budget                                         genres  \\\n",
       "0  237000000  [Action, Adventure, Fantasy, Science Fiction]   \n",
       "1  300000000                   [Adventure, Fantasy, Action]   \n",
       "\n",
       "                                            keywords original_language  \\\n",
       "0  [culture clash, future, space war, space colon...                en   \n",
       "1  [ocean, drug abuse, exotic island, east india ...                en   \n",
       "\n",
       "                                            overview  popularity  \\\n",
       "0  In the 22nd century, a paraplegic Marine is di...  150.437577   \n",
       "1  Captain Barbossa, long believed to be dead, ha...  139.082615   \n",
       "\n",
       "                                production_companies  \\\n",
       "0  [Ingenious Film Partners, Twentieth Century Fo...   \n",
       "1  [Walt Disney Pictures, Jerry Bruckheimer Films...   \n",
       "\n",
       "                         production_countries     revenue  runtime  \\\n",
       "0  [United States of America, United Kingdom]  2787965087    162.0   \n",
       "1                  [United States of America]   961000000    169.0   \n",
       "\n",
       "                                          tagline  vote_average  vote_count  \\\n",
       "0                     Enter the World of Pandora.           7.2       11800   \n",
       "1  At the end of the world, the adventure begins.           6.9        4500   \n",
       "\n",
       "                                      title  \\\n",
       "0                                    Avatar   \n",
       "1  Pirates of the Caribbean: At World's End   \n",
       "\n",
       "                                                cast        director  year  \\\n",
       "0  [Sam Worthington, Zoe Saldana, Sigourney Weave...   James Cameron  2009   \n",
       "1  [Johnny Depp, Orlando Bloom, Keira Knightley, ...  Gore Verbinski  2007   \n",
       "\n",
       "   score  \n",
       "0  7.167  \n",
       "1  6.840  "
      ]
     },
     "execution_count": 43,
     "metadata": {},
     "output_type": "execute_result"
    }
   ],
   "source": [
    "alldata['score'] = round(alldata['score'], 3)\n",
    "alldata.head(2)"
   ]
  },
  {
   "cell_type": "markdown",
   "metadata": {
    "id": "VqV3FU5cm9tD"
   },
   "source": [
    "Extracting only top 3 members of the cast since they would be the leads"
   ]
  },
  {
   "cell_type": "code",
   "execution_count": 44,
   "metadata": {
    "id": "_PNpBjlyfWgJ"
   },
   "outputs": [],
   "source": [
    "def top5(x):\n",
    "    if len(x) > 3:\n",
    "        x = x[:3]\n",
    "    return(x)\n",
    "alldata['cast'] = alldata['cast'].apply(top5)"
   ]
  },
  {
   "cell_type": "code",
   "execution_count": 45,
   "metadata": {
    "colab": {
     "base_uri": "https://localhost:8080/",
     "height": 335
    },
    "id": "FAaFYQ2xmmG1",
    "outputId": "bec7d781-cf7c-4af7-8469-bd44427f1faa"
   },
   "outputs": [
    {
     "data": {
      "text/html": [
       "<div>\n",
       "<style scoped>\n",
       "    .dataframe tbody tr th:only-of-type {\n",
       "        vertical-align: middle;\n",
       "    }\n",
       "\n",
       "    .dataframe tbody tr th {\n",
       "        vertical-align: top;\n",
       "    }\n",
       "\n",
       "    .dataframe thead th {\n",
       "        text-align: right;\n",
       "    }\n",
       "</style>\n",
       "<table border=\"1\" class=\"dataframe\">\n",
       "  <thead>\n",
       "    <tr style=\"text-align: right;\">\n",
       "      <th></th>\n",
       "      <th>budget</th>\n",
       "      <th>genres</th>\n",
       "      <th>keywords</th>\n",
       "      <th>original_language</th>\n",
       "      <th>overview</th>\n",
       "      <th>popularity</th>\n",
       "      <th>production_companies</th>\n",
       "      <th>production_countries</th>\n",
       "      <th>revenue</th>\n",
       "      <th>runtime</th>\n",
       "      <th>tagline</th>\n",
       "      <th>vote_average</th>\n",
       "      <th>vote_count</th>\n",
       "      <th>title</th>\n",
       "      <th>cast</th>\n",
       "      <th>director</th>\n",
       "      <th>year</th>\n",
       "      <th>score</th>\n",
       "    </tr>\n",
       "  </thead>\n",
       "  <tbody>\n",
       "    <tr>\n",
       "      <th>0</th>\n",
       "      <td>237000000</td>\n",
       "      <td>[Action, Adventure, Fantasy, Science Fiction]</td>\n",
       "      <td>[culture clash, future, space war, space colon...</td>\n",
       "      <td>en</td>\n",
       "      <td>In the 22nd century, a paraplegic Marine is di...</td>\n",
       "      <td>150.437577</td>\n",
       "      <td>[Ingenious Film Partners, Twentieth Century Fo...</td>\n",
       "      <td>[United States of America, United Kingdom]</td>\n",
       "      <td>2787965087</td>\n",
       "      <td>162.0</td>\n",
       "      <td>Enter the World of Pandora.</td>\n",
       "      <td>7.2</td>\n",
       "      <td>11800</td>\n",
       "      <td>Avatar</td>\n",
       "      <td>[Sam Worthington, Zoe Saldana, Sigourney Weaver]</td>\n",
       "      <td>James Cameron</td>\n",
       "      <td>2009</td>\n",
       "      <td>7.167</td>\n",
       "    </tr>\n",
       "    <tr>\n",
       "      <th>1</th>\n",
       "      <td>300000000</td>\n",
       "      <td>[Adventure, Fantasy, Action]</td>\n",
       "      <td>[ocean, drug abuse, exotic island, east india ...</td>\n",
       "      <td>en</td>\n",
       "      <td>Captain Barbossa, long believed to be dead, ha...</td>\n",
       "      <td>139.082615</td>\n",
       "      <td>[Walt Disney Pictures, Jerry Bruckheimer Films...</td>\n",
       "      <td>[United States of America]</td>\n",
       "      <td>961000000</td>\n",
       "      <td>169.0</td>\n",
       "      <td>At the end of the world, the adventure begins.</td>\n",
       "      <td>6.9</td>\n",
       "      <td>4500</td>\n",
       "      <td>Pirates of the Caribbean: At World's End</td>\n",
       "      <td>[Johnny Depp, Orlando Bloom, Keira Knightley]</td>\n",
       "      <td>Gore Verbinski</td>\n",
       "      <td>2007</td>\n",
       "      <td>6.840</td>\n",
       "    </tr>\n",
       "  </tbody>\n",
       "</table>\n",
       "</div>"
      ],
      "text/plain": [
       "      budget                                         genres  \\\n",
       "0  237000000  [Action, Adventure, Fantasy, Science Fiction]   \n",
       "1  300000000                   [Adventure, Fantasy, Action]   \n",
       "\n",
       "                                            keywords original_language  \\\n",
       "0  [culture clash, future, space war, space colon...                en   \n",
       "1  [ocean, drug abuse, exotic island, east india ...                en   \n",
       "\n",
       "                                            overview  popularity  \\\n",
       "0  In the 22nd century, a paraplegic Marine is di...  150.437577   \n",
       "1  Captain Barbossa, long believed to be dead, ha...  139.082615   \n",
       "\n",
       "                                production_companies  \\\n",
       "0  [Ingenious Film Partners, Twentieth Century Fo...   \n",
       "1  [Walt Disney Pictures, Jerry Bruckheimer Films...   \n",
       "\n",
       "                         production_countries     revenue  runtime  \\\n",
       "0  [United States of America, United Kingdom]  2787965087    162.0   \n",
       "1                  [United States of America]   961000000    169.0   \n",
       "\n",
       "                                          tagline  vote_average  vote_count  \\\n",
       "0                     Enter the World of Pandora.           7.2       11800   \n",
       "1  At the end of the world, the adventure begins.           6.9        4500   \n",
       "\n",
       "                                      title  \\\n",
       "0                                    Avatar   \n",
       "1  Pirates of the Caribbean: At World's End   \n",
       "\n",
       "                                               cast        director  year  \\\n",
       "0  [Sam Worthington, Zoe Saldana, Sigourney Weaver]   James Cameron  2009   \n",
       "1     [Johnny Depp, Orlando Bloom, Keira Knightley]  Gore Verbinski  2007   \n",
       "\n",
       "   score  \n",
       "0  7.167  \n",
       "1  6.840  "
      ]
     },
     "execution_count": 45,
     "metadata": {},
     "output_type": "execute_result"
    }
   ],
   "source": [
    "alldata.head(2)"
   ]
  },
  {
   "cell_type": "markdown",
   "metadata": {
    "id": "XcsXzFWPKNiW"
   },
   "source": [
    "Creating a copy of alldata and making some more changes, since we might need alldata at a later point"
   ]
  },
  {
   "cell_type": "code",
   "execution_count": 46,
   "metadata": {
    "id": "Htfon4afOj6M"
   },
   "outputs": [],
   "source": [
    "new_df=alldata.copy()"
   ]
  },
  {
   "cell_type": "markdown",
   "metadata": {
    "id": "mGq6wgfZILMA"
   },
   "source": [
    "Strip Spaces and Convert to Lowercase from cast.\n",
    "\n",
    "Mention Director 2 times to give it more weight relative to the entire cast."
   ]
  },
  {
   "cell_type": "code",
   "execution_count": 47,
   "metadata": {
    "id": "4RVGURLZqlcF"
   },
   "outputs": [],
   "source": [
    "new_df['cast'] = new_df['cast'].apply(lambda x: [str.lower(i.replace(\" \", \"\")) for i in x])\n",
    "new_df['dir'] = new_df['director'].astype('str').apply(lambda x: str.lower(x.replace(\" \", \"\")))\n",
    "new_df['dir'] = new_df['dir'].apply(lambda x: [x,x, x])"
   ]
  },
  {
   "cell_type": "markdown",
   "metadata": {
    "id": "CljqTs_oKbuQ"
   },
   "source": [
    "Removing empty lists from cast and keywords"
   ]
  },
  {
   "cell_type": "code",
   "execution_count": 48,
   "metadata": {
    "id": "p7pw2kMRrnEJ"
   },
   "outputs": [],
   "source": [
    "new_df = new_df[new_df.astype(str)['cast'] != '[]']\n",
    "new_df = new_df[new_df.astype(str)['keywords'] != '[]']"
   ]
  },
  {
   "cell_type": "markdown",
   "metadata": {
    "id": "7aTF5Uh1Kg_f"
   },
   "source": [
    "Calculating the frequenct counts of every keyword that appears in the dataset."
   ]
  },
  {
   "cell_type": "code",
   "execution_count": 49,
   "metadata": {
    "colab": {
     "base_uri": "https://localhost:8080/"
    },
    "id": "OY2fgTOVsMp6",
    "outputId": "e05fd328-2a00-4d4e-ebc7-1569644c85de"
   },
   "outputs": [
    {
     "data": {
      "text/plain": [
       "independent film        317\n",
       "woman director          317\n",
       "duringcreditsstinger    307\n",
       "based on novel          197\n",
       "murder                  189\n",
       "Name: keyword, dtype: int64"
      ]
     },
     "execution_count": 49,
     "metadata": {},
     "output_type": "execute_result"
    }
   ],
   "source": [
    "s = new_df.apply(lambda x: pd.Series(x['keywords']),axis=1).stack().reset_index(level=1, drop=True)\n",
    "s.name = 'keyword'\n",
    "s = s.value_counts()\n",
    "s[:5]"
   ]
  },
  {
   "cell_type": "markdown",
   "metadata": {
    "id": "U9HF_VPVKrIX"
   },
   "source": [
    "Limiting the frequent counts above 1. We do not have any use for keywords that occur only once."
   ]
  },
  {
   "cell_type": "code",
   "execution_count": 50,
   "metadata": {
    "colab": {
     "base_uri": "https://localhost:8080/"
    },
    "id": "ygKTd60dtPva",
    "outputId": "7efb0e43-6172-476e-ab53-4748aa17a3c8"
   },
   "outputs": [
    {
     "data": {
      "text/plain": [
       "independent film         317\n",
       "woman director           317\n",
       "duringcreditsstinger     307\n",
       "based on novel           197\n",
       "murder                   189\n",
       "aftercreditsstinger      170\n",
       "violence                 150\n",
       "dystopia                 139\n",
       "sport                    126\n",
       "revenge                  118\n",
       "sex                      111\n",
       "friendship               106\n",
       "biography                105\n",
       "musical                  105\n",
       "teenager                  99\n",
       "3d                        98\n",
       "love                      95\n",
       "sequel                    94\n",
       "suspense                  92\n",
       "new york                  89\n",
       "police                    84\n",
       "los angeles               81\n",
       "high school               80\n",
       "alien                     76\n",
       "prison                    72\n",
       "nudity                    71\n",
       "family                    69\n",
       "superhero                 69\n",
       "drug                      69\n",
       "london england            69\n",
       "                        ... \n",
       "journal                    2\n",
       "witchcraft                 2\n",
       "play                       2\n",
       "supervillain               2\n",
       "reference to superman      2\n",
       "mustang                    2\n",
       "kryptonite                 2\n",
       "money delivery             2\n",
       "cathedral                  2\n",
       "tricks                     2\n",
       "totalitarianism            2\n",
       "car mechanic               2\n",
       "white trash                2\n",
       "total destruction          2\n",
       "despot                     2\n",
       "overachiever               2\n",
       "jupiter                    2\n",
       "hyena                      2\n",
       "grandfather                2\n",
       "deserted town              2\n",
       "audience                   2\n",
       "culture                    2\n",
       "queen elisabeth ii         2\n",
       "nudism                     2\n",
       "slave owner                2\n",
       "female homosexuality       2\n",
       "phobia                     2\n",
       "south korea                2\n",
       "having fun                 2\n",
       "female musician            2\n",
       "Name: keyword, Length: 4494, dtype: int64"
      ]
     },
     "execution_count": 50,
     "metadata": {},
     "output_type": "execute_result"
    }
   ],
   "source": [
    "s = s[s > 1]\n",
    "s"
   ]
  },
  {
   "cell_type": "code",
   "execution_count": 51,
   "metadata": {
    "id": "4ZlWJeK2pKQB"
   },
   "outputs": [],
   "source": [
    "#taking the indices from the dataframe\n",
    "indices = pd.Series(new_df.index, index=new_df['title'])"
   ]
  },
  {
   "cell_type": "markdown",
   "metadata": {
    "id": "81c-JqplLQ_s"
   },
   "source": [
    "Function to consider the keywords that occur in s(frequent keywords)"
   ]
  },
  {
   "cell_type": "code",
   "execution_count": 52,
   "metadata": {
    "id": "0cXr4Qhatjo3"
   },
   "outputs": [],
   "source": [
    "def filter_keywords(x):\n",
    "    words = []\n",
    "    for i in x:\n",
    "        if i in s:\n",
    "            words.append(i)\n",
    "    return words"
   ]
  },
  {
   "cell_type": "markdown",
   "metadata": {
    "id": "Npx8ZquyGtxA"
   },
   "source": [
    "Stemmers remove morphological affixes from words, leaving only the word stem.\n",
    "for eg dogs-> dog, running-> run\n",
    "\n",
    "Stripping and converting to lowercase"
   ]
  },
  {
   "cell_type": "code",
   "execution_count": 53,
   "metadata": {
    "id": "ckZA6stWtdSo"
   },
   "outputs": [],
   "source": [
    "from nltk.stem.snowball import SnowballStemmer\n",
    "stemmer = SnowballStemmer('english')\n",
    "new_df['keywords'] = new_df['keywords'].apply(filter_keywords)\n",
    "new_df['keywords'] = new_df['keywords'].apply(lambda x: [stemmer.stem(i) for i in x])\n",
    "new_df['keywords'] = new_df['keywords'].apply(lambda x: [str.lower(i.replace(\" \", \"\")) for i in x])"
   ]
  },
  {
   "cell_type": "code",
   "execution_count": 54,
   "metadata": {
    "colab": {
     "base_uri": "https://localhost:8080/"
    },
    "id": "bZ_qV8ZMt-FF",
    "outputId": "935efa31-2b10-47da-ca57-d18ddbbe409e"
   },
   "outputs": [
    {
     "data": {
      "text/plain": [
       "0       [cultureclash, futur, spacewar, spacecoloni, s...\n",
       "1       [ocean, drugabus, exoticisland, eastindiatradi...\n",
       "2       [spi, basedonnovel, secretag, sequel, mi6, bri...\n",
       "3       [dccomic, crimefight, terrorist, secretident, ...\n",
       "4       [basedonnovel, mar, medallion, spacetravel, pr...\n",
       "5       [dualident, amnesia, sandstorm, loveofone'slif...\n",
       "6       [hostag, magic, hors, fairytal, music, princes...\n",
       "7       [marvelcom, sequel, superhero, basedoncomicboo...\n",
       "8       [witch, magic, broom, schoolofwitchcraft, wiza...\n",
       "9       [dccomic, vigilant, superhero, basedoncomicboo...\n",
       "10      [savingtheworld, dccomic, invulner, sequel, su...\n",
       "11        [kill, undercov, secretag, britishsecretservic]\n",
       "12      [witch, fortunetel, bondag, exoticisland, mons...\n",
       "13      [texa, hors, survivor, texasrang, partner, out...\n",
       "14      [savingtheworld, dccomic, superhero, basedonco...\n",
       "15      [basedonnovel, fictionalplac, brothersisterrel...\n",
       "16      [newyork, shield, marvelcom, superhero, basedo...\n",
       "17      [sea, captain, mutini, sword, primeminist, sai...\n",
       "18      [timetravel, timemachin, alien, fictionalgover...\n",
       "19      [corrupt, elv, dwarv, orc, middle-earth(tolkie...\n",
       "20      [lossoffath, vigilant, serum, marvelcom, spide...\n",
       "21      [robinhood, archer, knight, bowandarrow, middl...\n",
       "22      [elv, dwarv, orc, hobbit, dragon, wizard, swor...\n",
       "23      [england, compass, experi, lordship, uncl, pol...\n",
       "24      [filmbusi, screenplay, showbusi, filmmak, film...\n",
       "25      [shipwreck, iceberg, ship, panic, titan, ocean...\n",
       "26      [civilwar, war, marvelcom, sequel, superhero, ...\n",
       "27      [fight, u.s.navi, hongkong, soccer, scientist,...\n",
       "28      [monster, dna, tyrannosaurusrex, velociraptor,...\n",
       "29      [spi, secretag, sociopath, killer, artgalleri,...\n",
       "                              ...                        \n",
       "4706                               [comicbook, biographi]\n",
       "4709                                    [independentfilm]\n",
       "4712                [highschool, murder, slasher, teenag]\n",
       "4713                                       [1970s, music]\n",
       "4714                                     [reveng, murder]\n",
       "4715                                    [independentfilm]\n",
       "4717       [musician, romanc, independentfilm, mumblecor]\n",
       "4719                    [murder, darkcomedi, crimefamili]\n",
       "4720               [salesclerk, loser, aftercreditssting]\n",
       "4721                                   [dream, prostitut]\n",
       "4722                                          [mumblecor]\n",
       "4723    [offic, love, independentfilm, secretari, miso...\n",
       "4725                       [rampag, massacr, killingspre]\n",
       "4726    [moon, philosophi, burglar, texa, dream, atomi...\n",
       "4728                   [date, divorc, sexscen, sexcomedi]\n",
       "4729    [christian, fathersonrelationship, georgia, ar...\n",
       "4730                                            [possess]\n",
       "4731                                          [mumblecor]\n",
       "4733                                    [independentfilm]\n",
       "4734                                          [superhero]\n",
       "4735    [gay, trailerpark, popcultur, drugdeal, heroin...\n",
       "4736                       [addict, recoveringdrugaddict]\n",
       "4738                                          [homeinvas]\n",
       "4739    [japan, prostitut, hotel, basedonnovel, halluc...\n",
       "4740    [confess, haze, gangmemb, lgbt, catholicpriest...\n",
       "4742                    [gang, audit, policefak, actress]\n",
       "4743    [distrust, garag, identitycrisi, timetravel, t...\n",
       "4744                      [unitedstates–mexicobarri, leg]\n",
       "4746     [date, loveatfirstsight, narrat, investig, team]\n",
       "4747                  [obsess, camcord, crush, dreamgirl]\n",
       "Name: keywords, Length: 4380, dtype: object"
      ]
     },
     "execution_count": 54,
     "metadata": {},
     "output_type": "execute_result"
    }
   ],
   "source": [
    "new_df['keywords']"
   ]
  },
  {
   "cell_type": "markdown",
   "metadata": {
    "id": "BCYFdV4wGfE4"
   },
   "source": [
    "Merging keywords cast director and genres into one column and joining them with a space\n"
   ]
  },
  {
   "cell_type": "code",
   "execution_count": 55,
   "metadata": {
    "id": "Fe-BFn8LuCH7"
   },
   "outputs": [],
   "source": [
    "new_df['allwords'] = new_df['keywords'] + new_df['cast'] + new_df['dir'] + new_df['genres']\n",
    "new_df['allwords'] = new_df['allwords'].apply(lambda x: ' '.join(x))"
   ]
  },
  {
   "cell_type": "markdown",
   "metadata": {
    "id": "z4i-F3xVLgYv"
   },
   "source": [
    "Convert a collection of text to a matrix of token counts\n",
    "\n"
   ]
  },
  {
   "cell_type": "code",
   "execution_count": 56,
   "metadata": {
    "id": "63yijlDrnKV9"
   },
   "outputs": [],
   "source": [
    "from sklearn.feature_extraction.text import CountVectorizer\n",
    "count = CountVectorizer(analyzer='word',ngram_range=(1, 2),min_df=0, stop_words='english')\n",
    "count_matrix = count.fit_transform(new_df['allwords'])"
   ]
  },
  {
   "cell_type": "markdown",
   "metadata": {
    "id": "5-3v7-aTL1uS"
   },
   "source": [
    "Finding the similarity using Cosine Similarity technique"
   ]
  },
  {
   "cell_type": "code",
   "execution_count": 57,
   "metadata": {
    "id": "M-Jc23JAqGGw"
   },
   "outputs": [],
   "source": [
    "cosine_sim = cosine_similarity(count_matrix, count_matrix)"
   ]
  },
  {
   "cell_type": "code",
   "execution_count": 58,
   "metadata": {
    "id": "7_lJsqD1vCYf"
   },
   "outputs": [],
   "source": [
    "new_df = new_df.reset_index()\n",
    "titles = new_df['title']\n",
    "indices = pd.Series(new_df.index, index=new_df['title'])"
   ]
  },
  {
   "cell_type": "markdown",
   "metadata": {
    "id": "L2D1_udCMBzW"
   },
   "source": [
    "#Recommending Movies\n"
   ]
  },
  {
   "cell_type": "markdown",
   "metadata": {
    "id": "BOd5TxdbMHzj"
   },
   "source": [
    "Function to recommend movies based on similarity and popularity"
   ]
  },
  {
   "cell_type": "code",
   "execution_count": 59,
   "metadata": {
    "id": "69DymSQkmoBd"
   },
   "outputs": [],
   "source": [
    "def recommendations(title):\n",
    "    idx = indices[title]\n",
    "    sim_scores = list(enumerate(cosine_sim[idx]))\n",
    "    sim_scores = sorted(sim_scores, key=lambda x: x[1], reverse=True)\n",
    "    sim_scores = sim_scores[1:26]\n",
    "    movie_indices = [i[0] for i in sim_scores]\n",
    "    \n",
    "    qualified = new_df.iloc[movie_indices][['title', 'year']]\n",
    "    mov = new_df.iloc[movie_indices][['vote_count', 'vote_average']]\n",
    "    #qualified = mov[(mov['vote_count'] >= m) & (mov['vote_count'].notnull()) & (mov['vote_average'].notnull())]\n",
    "    #qualified['vote_count'] = qualified['vote_count'].astype('int')\n",
    "    #qualified['vote_average'] = qualified['vote_average'].astype('int')\n",
    "    qualified.rename(columns={'title':'Title'},inplace=True)\n",
    "    qualified.rename(columns={'year':'Year'},inplace=True)\n",
    "    qualified['Director']=new_df['director']\n",
    "    qualified['IMDBScore'] = mov.apply(imdbscore, axis=1)\n",
    "    qualified = qualified.sort_values('IMDBScore', ascending=False).head(10)\n",
    "    qualified['IMDBScore']=round(qualified['IMDBScore'], 2)\n",
    "    #qualified['cast']=alldata['cast']\n",
    "    \n",
    "    return qualified"
   ]
  },
  {
   "cell_type": "markdown",
   "metadata": {
    "id": "4T8jRVneMRDf"
   },
   "source": [
    "Making recommendation using an example"
   ]
  },
  {
   "cell_type": "code",
   "execution_count": 60,
   "metadata": {
    "colab": {
     "base_uri": "https://localhost:8080/",
     "height": 359
    },
    "id": "I17x8wp4ORUw",
    "outputId": "ac042a19-e7bd-4412-8b16-ba08493cf0f6"
   },
   "outputs": [
    {
     "data": {
      "text/html": [
       "<div>\n",
       "<style scoped>\n",
       "    .dataframe tbody tr th:only-of-type {\n",
       "        vertical-align: middle;\n",
       "    }\n",
       "\n",
       "    .dataframe tbody tr th {\n",
       "        vertical-align: top;\n",
       "    }\n",
       "\n",
       "    .dataframe thead th {\n",
       "        text-align: right;\n",
       "    }\n",
       "</style>\n",
       "<table border=\"1\" class=\"dataframe\">\n",
       "  <thead>\n",
       "    <tr style=\"text-align: right;\">\n",
       "      <th></th>\n",
       "      <th>Title</th>\n",
       "      <th>Year</th>\n",
       "      <th>Director</th>\n",
       "      <th>IMDBScore</th>\n",
       "    </tr>\n",
       "  </thead>\n",
       "  <tbody>\n",
       "    <tr>\n",
       "      <th>65</th>\n",
       "      <td>The Dark Knight</td>\n",
       "      <td>2008</td>\n",
       "      <td>Christopher Nolan</td>\n",
       "      <td>8.14</td>\n",
       "    </tr>\n",
       "    <tr>\n",
       "      <th>94</th>\n",
       "      <td>Inception</td>\n",
       "      <td>2010</td>\n",
       "      <td>Christopher Nolan</td>\n",
       "      <td>8.05</td>\n",
       "    </tr>\n",
       "    <tr>\n",
       "      <th>93</th>\n",
       "      <td>Interstellar</td>\n",
       "      <td>2014</td>\n",
       "      <td>Christopher Nolan</td>\n",
       "      <td>8.03</td>\n",
       "    </tr>\n",
       "    <tr>\n",
       "      <th>3367</th>\n",
       "      <td>Memento</td>\n",
       "      <td>2000</td>\n",
       "      <td>Christopher Nolan</td>\n",
       "      <td>7.93</td>\n",
       "    </tr>\n",
       "    <tr>\n",
       "      <th>1179</th>\n",
       "      <td>The Prestige</td>\n",
       "      <td>2006</td>\n",
       "      <td>Christopher Nolan</td>\n",
       "      <td>7.85</td>\n",
       "    </tr>\n",
       "    <tr>\n",
       "      <th>117</th>\n",
       "      <td>Batman Begins</td>\n",
       "      <td>2005</td>\n",
       "      <td>Christopher Nolan</td>\n",
       "      <td>7.43</td>\n",
       "    </tr>\n",
       "    <tr>\n",
       "      <th>1020</th>\n",
       "      <td>Insomnia</td>\n",
       "      <td>2002</td>\n",
       "      <td>Christopher Nolan</td>\n",
       "      <td>6.63</td>\n",
       "    </tr>\n",
       "    <tr>\n",
       "      <th>2353</th>\n",
       "      <td>Running Scared</td>\n",
       "      <td>2006</td>\n",
       "      <td>Wayne Kramer</td>\n",
       "      <td>6.53</td>\n",
       "    </tr>\n",
       "    <tr>\n",
       "      <th>424</th>\n",
       "      <td>Batman Returns</td>\n",
       "      <td>1992</td>\n",
       "      <td>Tim Burton</td>\n",
       "      <td>6.51</td>\n",
       "    </tr>\n",
       "    <tr>\n",
       "      <th>2790</th>\n",
       "      <td>Trash</td>\n",
       "      <td>2014</td>\n",
       "      <td>Stephen Daldry</td>\n",
       "      <td>6.51</td>\n",
       "    </tr>\n",
       "  </tbody>\n",
       "</table>\n",
       "</div>"
      ],
      "text/plain": [
       "                Title  Year           Director  IMDBScore\n",
       "65    The Dark Knight  2008  Christopher Nolan       8.14\n",
       "94          Inception  2010  Christopher Nolan       8.05\n",
       "93       Interstellar  2014  Christopher Nolan       8.03\n",
       "3367          Memento  2000  Christopher Nolan       7.93\n",
       "1179     The Prestige  2006  Christopher Nolan       7.85\n",
       "117     Batman Begins  2005  Christopher Nolan       7.43\n",
       "1020         Insomnia  2002  Christopher Nolan       6.63\n",
       "2353   Running Scared  2006       Wayne Kramer       6.53\n",
       "424    Batman Returns  1992         Tim Burton       6.51\n",
       "2790            Trash  2014     Stephen Daldry       6.51"
      ]
     },
     "execution_count": 60,
     "metadata": {},
     "output_type": "execute_result"
    }
   ],
   "source": [
    "recommendations('The Dark Knight Rises')"
   ]
  },
  {
   "cell_type": "code",
   "execution_count": 61,
   "metadata": {
    "colab": {
     "base_uri": "https://localhost:8080/",
     "height": 359
    },
    "id": "1vnENGeWOWHG",
    "outputId": "3651237d-e4ac-40a3-b78c-dfb9a7600364"
   },
   "outputs": [
    {
     "data": {
      "text/html": [
       "<div>\n",
       "<style scoped>\n",
       "    .dataframe tbody tr th:only-of-type {\n",
       "        vertical-align: middle;\n",
       "    }\n",
       "\n",
       "    .dataframe tbody tr th {\n",
       "        vertical-align: top;\n",
       "    }\n",
       "\n",
       "    .dataframe thead th {\n",
       "        text-align: right;\n",
       "    }\n",
       "</style>\n",
       "<table border=\"1\" class=\"dataframe\">\n",
       "  <thead>\n",
       "    <tr style=\"text-align: right;\">\n",
       "      <th></th>\n",
       "      <th>Title</th>\n",
       "      <th>Year</th>\n",
       "      <th>Director</th>\n",
       "      <th>IMDBScore</th>\n",
       "    </tr>\n",
       "  </thead>\n",
       "  <tbody>\n",
       "    <tr>\n",
       "      <th>65</th>\n",
       "      <td>The Dark Knight</td>\n",
       "      <td>2008</td>\n",
       "      <td>Christopher Nolan</td>\n",
       "      <td>8.14</td>\n",
       "    </tr>\n",
       "    <tr>\n",
       "      <th>93</th>\n",
       "      <td>Interstellar</td>\n",
       "      <td>2014</td>\n",
       "      <td>Christopher Nolan</td>\n",
       "      <td>8.03</td>\n",
       "    </tr>\n",
       "    <tr>\n",
       "      <th>3367</th>\n",
       "      <td>Memento</td>\n",
       "      <td>2000</td>\n",
       "      <td>Christopher Nolan</td>\n",
       "      <td>7.93</td>\n",
       "    </tr>\n",
       "    <tr>\n",
       "      <th>1179</th>\n",
       "      <td>The Prestige</td>\n",
       "      <td>2006</td>\n",
       "      <td>Christopher Nolan</td>\n",
       "      <td>7.85</td>\n",
       "    </tr>\n",
       "    <tr>\n",
       "      <th>3</th>\n",
       "      <td>The Dark Knight Rises</td>\n",
       "      <td>2012</td>\n",
       "      <td>Christopher Nolan</td>\n",
       "      <td>7.54</td>\n",
       "    </tr>\n",
       "    <tr>\n",
       "      <th>117</th>\n",
       "      <td>Batman Begins</td>\n",
       "      <td>2005</td>\n",
       "      <td>Christopher Nolan</td>\n",
       "      <td>7.43</td>\n",
       "    </tr>\n",
       "    <tr>\n",
       "      <th>273</th>\n",
       "      <td>Minority Report</td>\n",
       "      <td>2002</td>\n",
       "      <td>Steven Spielberg</td>\n",
       "      <td>6.98</td>\n",
       "    </tr>\n",
       "    <tr>\n",
       "      <th>1020</th>\n",
       "      <td>Insomnia</td>\n",
       "      <td>2002</td>\n",
       "      <td>Christopher Nolan</td>\n",
       "      <td>6.63</td>\n",
       "    </tr>\n",
       "    <tr>\n",
       "      <th>1537</th>\n",
       "      <td>Looper</td>\n",
       "      <td>2012</td>\n",
       "      <td>Rian Johnson</td>\n",
       "      <td>6.56</td>\n",
       "    </tr>\n",
       "    <tr>\n",
       "      <th>898</th>\n",
       "      <td>Super 8</td>\n",
       "      <td>2011</td>\n",
       "      <td>J.J. Abrams</td>\n",
       "      <td>6.54</td>\n",
       "    </tr>\n",
       "  </tbody>\n",
       "</table>\n",
       "</div>"
      ],
      "text/plain": [
       "                      Title  Year           Director  IMDBScore\n",
       "65          The Dark Knight  2008  Christopher Nolan       8.14\n",
       "93             Interstellar  2014  Christopher Nolan       8.03\n",
       "3367                Memento  2000  Christopher Nolan       7.93\n",
       "1179           The Prestige  2006  Christopher Nolan       7.85\n",
       "3     The Dark Knight Rises  2012  Christopher Nolan       7.54\n",
       "117           Batman Begins  2005  Christopher Nolan       7.43\n",
       "273         Minority Report  2002   Steven Spielberg       6.98\n",
       "1020               Insomnia  2002  Christopher Nolan       6.63\n",
       "1537                 Looper  2012       Rian Johnson       6.56\n",
       "898                 Super 8  2011        J.J. Abrams       6.54"
      ]
     },
     "execution_count": 61,
     "metadata": {},
     "output_type": "execute_result"
    }
   ],
   "source": [
    "recommendations('Inception')"
   ]
  },
  {
   "cell_type": "code",
   "execution_count": null,
   "metadata": {},
   "outputs": [],
   "source": []
  },
  {
   "cell_type": "code",
   "execution_count": null,
   "metadata": {},
   "outputs": [],
   "source": []
  },
  {
   "cell_type": "code",
   "execution_count": null,
   "metadata": {},
   "outputs": [],
   "source": []
  }
 ],
 "metadata": {
  "colab": {
   "collapsed_sections": [],
   "name": "tmdb_recommendation.ipynb",
   "provenance": []
  },
  "kernelspec": {
   "display_name": "Python 3",
   "language": "python",
   "name": "python3"
  },
  "language_info": {
   "codemirror_mode": {
    "name": "ipython",
    "version": 3
   },
   "file_extension": ".py",
   "mimetype": "text/x-python",
   "name": "python",
   "nbconvert_exporter": "python",
   "pygments_lexer": "ipython3",
   "version": "3.6.5"
  }
 },
 "nbformat": 4,
 "nbformat_minor": 1
}
